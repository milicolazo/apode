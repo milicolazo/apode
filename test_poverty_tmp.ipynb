{
 "cells": [
  {
   "cell_type": "code",
   "execution_count": 1,
   "metadata": {},
   "outputs": [],
   "source": [
    "import matplotlib.pyplot as plt\n",
    "import seaborn as sns\n",
    "\n",
    "import numpy as np\n",
    "import pandas as pd\n",
    "\n",
    "from apode import ApodeData # clase\n",
    "from apode.distributions import distribution_examples,default_rng # test  "
   ]
  },
  {
   "cell_type": "code",
   "execution_count": 62,
   "metadata": {},
   "outputs": [],
   "source": [
    "# Datos (arbitrarios)\n",
    "x = [23, 10, 12, 21, 4, 8, 19, 15, 11, 9]\n",
    "pline = 10 # Poverty line\n",
    "df1 = pd.DataFrame({'x':x})\n",
    "dr1 = ApodeData(df1, varx=\"x\") "
   ]
  },
  {
   "cell_type": "code",
   "execution_count": 4,
   "metadata": {},
   "outputs": [
    {
     "data": {
      "text/plain": [
       "0.0"
      ]
     },
     "execution_count": 4,
     "metadata": {},
     "output_type": "execute_result"
    }
   ],
   "source": [
    "pline_new = np.min(x)-1\n",
    "p = dr1.poverty('headcount',pline=pline_new)\n",
    "p"
   ]
  },
  {
   "cell_type": "code",
   "execution_count": 76,
   "metadata": {},
   "outputs": [],
   "source": [
    "class TestCaseUniform:\n",
    "    def setup_method(self):\n",
    "        x = np.random.uniform(size=10)\n",
    "        df1 = pd.DataFrame({'x':x})\n",
    "        self.data = ApodeData(df1, varx=\"x\") \n",
    "\n",
    "    def test_min(self,method,**kwargs):\n",
    "        pline = np.min(self.data.data.values)-1\n",
    "        assert self.data.poverty(method,pline=pline,**kwargs) == 0\n",
    "\n",
    "    def test_max(self,method,**kwargs):\n",
    "        pline = np.max(self.data.data.values)+1\n",
    "        assert self.data.poverty(method,pline=pline,**kwargs) == 1        \n",
    "        \n",
    "    def test_symmetry(self,method,**kwargs):\n",
    "        pline = np.mean(self.data.data.values)\n",
    "        y = self.data.data['x'].tolist()\n",
    "        random.shuffle(y)        \n",
    "        df2 = pd.DataFrame({'x':y})\n",
    "        dr2 = ApodeData(df2, varx=\"x\")\n",
    "        assert self.data.poverty(method,pline=pline,**kwargs) == dr2.poverty(method,pline=pline,**kwargs)"
   ]
  },
  {
   "cell_type": "code",
   "execution_count": 77,
   "metadata": {},
   "outputs": [],
   "source": [
    "x = TestCaseUniform()\n",
    "x.setup_method()"
   ]
  },
  {
   "cell_type": "code",
   "execution_count": 48,
   "metadata": {},
   "outputs": [],
   "source": [
    "x.test_min('headcount')"
   ]
  },
  {
   "cell_type": "code",
   "execution_count": 47,
   "metadata": {},
   "outputs": [],
   "source": [
    "x.test_max('headcount')"
   ]
  },
  {
   "cell_type": "code",
   "execution_count": 78,
   "metadata": {},
   "outputs": [],
   "source": [
    "x.test_symmetry('headcount')"
   ]
  },
  {
   "cell_type": "code",
   "execution_count": 49,
   "metadata": {},
   "outputs": [],
   "source": []
  },
  {
   "cell_type": "code",
   "execution_count": null,
   "metadata": {},
   "outputs": [],
   "source": [
    "\n"
   ]
  }
 ],
 "metadata": {
  "kernelspec": {
   "display_name": "Python 3",
   "language": "python",
   "name": "python3"
  },
  "language_info": {
   "codemirror_mode": {
    "name": "ipython",
    "version": 3
   },
   "file_extension": ".py",
   "mimetype": "text/x-python",
   "name": "python",
   "nbconvert_exporter": "python",
   "pygments_lexer": "ipython3",
   "version": "3.7.6"
  }
 },
 "nbformat": 4,
 "nbformat_minor": 4
}
