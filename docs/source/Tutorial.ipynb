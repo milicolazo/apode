{
 "cells": [
  {
   "cell_type": "markdown",
   "metadata": {},
   "source": [
    "# Apode Tutorial\n",
    "\n",
    "This tutorial shows the current functionalities of the Apode package. Apode contains various methods to calculate measures and generate graphs on the following topics:\n",
    "\n",
    "* Poverty\n",
    "* Inequality\n",
    "* Welfare\n",
    "* Polarization\n",
    "* Concentration\n",
    "\n",
    "\n",
    "## Getting Started\n",
    "\n",
    "### ApodeData class\n",
    "\n",
    "The objects are created as:\n",
    "\n",
    "    ad = ApodeData(DataFrame,income_column)\n",
    "    \n",
    "Where income_column is the name of the column of interest for the analysis in the dataframe.\n",
    "\n",
    "Methods that calculate indicators:\n",
    "   \n",
    "    ad.poverty(method,*args)    \n",
    "    ad.ineq(method,*args)\n",
    "    ad.welfare(method,*args) \n",
    "    ad.polarization(method,*args)\n",
    "    ad.concentration(method,*args)\n",
    " \n",
    "Métodos that generate graphs:\n",
    "\n",
    "    ad.plot.hist()\n",
    "    ad.plot.tip(**kwargs)\n",
    "    ad.plot.lorenz(**kwargs)\n",
    "    ad.plot.pen(**kwargs)\n",
    "    \n",
    "    "
   ]
  },
  {
   "cell_type": "markdown",
   "metadata": {},
   "source": [
    "### Data Creation and Description\n",
    "\n",
    "* Data can be generated manually or by means of a simulation. They are contained in a DataFrame object.\n",
    "* Other categoric variables that allow for the indicators to be applied by groups (groupby) might be available."
   ]
  },
  {
   "cell_type": "code",
   "execution_count": 1,
   "metadata": {},
   "outputs": [],
   "source": [
    "import numpy as np\n",
    "import pandas as pd\n",
    "\n",
    "from apode import ApodeData\n",
    "from apode import datasets "
   ]
  },
  {
   "cell_type": "markdown",
   "metadata": {},
   "source": [
    "### Manual data loading\n",
    "\n",
    "An object can be generated from a DataFrame or from a valid argument in the DataFrame method. The function *binning* can be used to group the data by number of bins.\n"
   ]
  },
  {
   "cell_type": "code",
   "execution_count": 2,
   "metadata": {},
   "outputs": [
    {
     "data": {
      "text/html": [
       "<div class=\"apode-data-container\" id=2018277169472><div>\n",
       "<style scoped>\n",
       "    .dataframe tbody tr th:only-of-type {\n",
       "        vertical-align: middle;\n",
       "    }\n",
       "\n",
       "    .dataframe tbody tr th {\n",
       "        vertical-align: top;\n",
       "    }\n",
       "\n",
       "    .dataframe thead th {\n",
       "        text-align: right;\n",
       "    }\n",
       "</style>\n",
       "<table border=\"1\" class=\"dataframe\">\n",
       "  <thead>\n",
       "    <tr style=\"text-align: right;\">\n",
       "      <th></th>\n",
       "      <th>x</th>\n",
       "    </tr>\n",
       "  </thead>\n",
       "  <tbody>\n",
       "    <tr>\n",
       "      <th>0</th>\n",
       "      <td>23</td>\n",
       "    </tr>\n",
       "    <tr>\n",
       "      <th>1</th>\n",
       "      <td>10</td>\n",
       "    </tr>\n",
       "    <tr>\n",
       "      <th>2</th>\n",
       "      <td>12</td>\n",
       "    </tr>\n",
       "    <tr>\n",
       "      <th>3</th>\n",
       "      <td>21</td>\n",
       "    </tr>\n",
       "    <tr>\n",
       "      <th>4</th>\n",
       "      <td>4</td>\n",
       "    </tr>\n",
       "    <tr>\n",
       "      <th>5</th>\n",
       "      <td>8</td>\n",
       "    </tr>\n",
       "    <tr>\n",
       "      <th>6</th>\n",
       "      <td>19</td>\n",
       "    </tr>\n",
       "    <tr>\n",
       "      <th>7</th>\n",
       "      <td>15</td>\n",
       "    </tr>\n",
       "    <tr>\n",
       "      <th>8</th>\n",
       "      <td>11</td>\n",
       "    </tr>\n",
       "    <tr>\n",
       "      <th>9</th>\n",
       "      <td>9</td>\n",
       "    </tr>\n",
       "  </tbody>\n",
       "</table>\n",
       "</div>ApodeData(income_column='<i>x</i>') - 10 rows x             1 columns</div>"
      ],
      "text/plain": [
       "    x\n",
       "0  23\n",
       "1  10\n",
       "2  12\n",
       "3  21\n",
       "4   4\n",
       "5   8\n",
       "6  19\n",
       "7  15\n",
       "8  11\n",
       "9   9\n",
       "ApodeData(income_column='x') - 10 rows x             1 columns"
      ]
     },
     "execution_count": 2,
     "metadata": {},
     "output_type": "execute_result"
    }
   ],
   "source": [
    "x = [23, 10, 12, 21, 4, 8, 19, 15, 11, 9]\n",
    "df1 = pd.DataFrame({'x':x})\n",
    "ad1 = ApodeData(df1, income_column=\"x\") \n",
    "ad1"
   ]
  },
  {
   "cell_type": "markdown",
   "metadata": {},
   "source": [
    "### Data simulation\n",
    "\n",
    "The module *datasets* contains some distribution examples commonly used to model the income distribution."
   ]
  },
  {
   "cell_type": "code",
   "execution_count": 3,
   "metadata": {},
   "outputs": [
    {
     "data": {
      "text/html": [
       "<div>\n",
       "<style scoped>\n",
       "    .dataframe tbody tr th:only-of-type {\n",
       "        vertical-align: middle;\n",
       "    }\n",
       "\n",
       "    .dataframe tbody tr th {\n",
       "        vertical-align: top;\n",
       "    }\n",
       "\n",
       "    .dataframe thead th {\n",
       "        text-align: right;\n",
       "    }\n",
       "</style>\n",
       "<table border=\"1\" class=\"dataframe\">\n",
       "  <thead>\n",
       "    <tr style=\"text-align: right;\">\n",
       "      <th></th>\n",
       "      <th>x</th>\n",
       "    </tr>\n",
       "  </thead>\n",
       "  <tbody>\n",
       "    <tr>\n",
       "      <th>count</th>\n",
       "      <td>1000.000000</td>\n",
       "    </tr>\n",
       "    <tr>\n",
       "      <th>mean</th>\n",
       "      <td>45.408376</td>\n",
       "    </tr>\n",
       "    <tr>\n",
       "      <th>std</th>\n",
       "      <td>30.207372</td>\n",
       "    </tr>\n",
       "    <tr>\n",
       "      <th>min</th>\n",
       "      <td>0.112876</td>\n",
       "    </tr>\n",
       "    <tr>\n",
       "      <th>25%</th>\n",
       "      <td>22.363891</td>\n",
       "    </tr>\n",
       "    <tr>\n",
       "      <th>50%</th>\n",
       "      <td>39.404779</td>\n",
       "    </tr>\n",
       "    <tr>\n",
       "      <th>75%</th>\n",
       "      <td>62.690946</td>\n",
       "    </tr>\n",
       "    <tr>\n",
       "      <th>max</th>\n",
       "      <td>190.596705</td>\n",
       "    </tr>\n",
       "  </tbody>\n",
       "</table>\n",
       "</div>"
      ],
      "text/plain": [
       "                 x\n",
       "count  1000.000000\n",
       "mean     45.408376\n",
       "std      30.207372\n",
       "min       0.112876\n",
       "25%      22.363891\n",
       "50%      39.404779\n",
       "75%      62.690946\n",
       "max     190.596705"
      ]
     },
     "execution_count": 3,
     "metadata": {},
     "output_type": "execute_result"
    }
   ],
   "source": [
    "# Generate data\n",
    "# list1 = ['uniform','lognormal','exponential','pareto','chisquare','gamma','weibull']\n",
    "# list2 = ['constant',linear','squared','extreme','unimodal','bimodal']\n",
    "\n",
    "n = 1000 # observations\n",
    "seed = 12345\n",
    "ad2 = datasets.make_weibull(seed=seed,size=n)\n",
    "ad2.describe()"
   ]
  },
  {
   "cell_type": "code",
   "execution_count": 7,
   "metadata": {},
   "outputs": [],
   "source": [
    "# Plotting the distribution"
   ]
  },
  {
   "cell_type": "code",
   "execution_count": 4,
   "metadata": {},
   "outputs": [
    {
     "data": {
      "image/png": "[encoded data removed]",
      "text/plain": [
       "<Figure size 432x288 with 1 Axes>"
      ]
     },
     "metadata": {
      "needs_background": "light"
     },
     "output_type": "display_data"
    }
   ],
   "source": [
    "ad2.plot();"
   ]
  },
  {
   "cell_type": "markdown",
   "metadata": {},
   "source": [
    "## Poverty \n",
    "\n",
    "Different poverty measures are implemented, as well as the TIP curve, which allows for a graphic comparison of poverty amongst different distributions.\n",
    "\n",
    "All the methods require the poverty line (*pline*) as argument. Some methods require an additional parameter, *alpha*. In some cases, a default value is set for it."
   ]
  },
  {
   "cell_type": "markdown",
   "metadata": {},
   "source": [
    "### Numerical measures"
   ]
  },
  {
   "cell_type": "code",
   "execution_count": 5,
   "metadata": {},
   "outputs": [
    {
     "data": {
      "text/plain": [
       "0.626"
      ]
     },
     "execution_count": 5,
     "metadata": {},
     "output_type": "execute_result"
    }
   ],
   "source": [
    "# Absolute poverty\n",
    "pline = 50 # Poverty line\n",
    "p = ad2.poverty('headcount',pline=pline)\n",
    "p"
   ]
  },
  {
   "cell_type": "code",
   "execution_count": 6,
   "metadata": {},
   "outputs": [
    {
     "data": {
      "text/plain": [
       "(0.214, 0.214, 0.214, 0.256)"
      ]
     },
     "execution_count": 6,
     "metadata": {},
     "output_type": "execute_result"
    }
   ],
   "source": [
    "# Relative poverty\n",
    "# pline = factor*stat  [stat: mean, median, quantile_q]\n",
    "p1 = ad2.poverty('headcount')  # pline= 0.5*median(y)\n",
    "p2 = ad2.poverty('headcount', pline='median', factor=0.5)\n",
    "p3 = ad2.poverty('headcount', pline='quantile', q=0.5, factor=0.5)\n",
    "p4 = ad2.poverty('headcount', pline='mean', factor=0.5)\n",
    "p1, p2, p3, p4"
   ]
  },
  {
   "cell_type": "code",
   "execution_count": 7,
   "metadata": {},
   "outputs": [
    {
     "data": {
      "text/html": [
       "<div>\n",
       "<style scoped>\n",
       "    .dataframe tbody tr th:only-of-type {\n",
       "        vertical-align: middle;\n",
       "    }\n",
       "\n",
       "    .dataframe tbody tr th {\n",
       "        vertical-align: top;\n",
       "    }\n",
       "\n",
       "    .dataframe thead th {\n",
       "        text-align: right;\n",
       "    }\n",
       "</style>\n",
       "<table border=\"1\" class=\"dataframe\">\n",
       "  <thead>\n",
       "    <tr style=\"text-align: right;\">\n",
       "      <th></th>\n",
       "      <th>method</th>\n",
       "      <th>alpha</th>\n",
       "      <th>measure</th>\n",
       "    </tr>\n",
       "  </thead>\n",
       "  <tbody>\n",
       "    <tr>\n",
       "      <th>0</th>\n",
       "      <td>headcount</td>\n",
       "      <td>NaN</td>\n",
       "      <td>0.626000</td>\n",
       "    </tr>\n",
       "    <tr>\n",
       "      <th>1</th>\n",
       "      <td>gap</td>\n",
       "      <td>NaN</td>\n",
       "      <td>0.295057</td>\n",
       "    </tr>\n",
       "    <tr>\n",
       "      <th>2</th>\n",
       "      <td>severity</td>\n",
       "      <td>NaN</td>\n",
       "      <td>0.182768</td>\n",
       "    </tr>\n",
       "    <tr>\n",
       "      <th>3</th>\n",
       "      <td>fgt</td>\n",
       "      <td>1.5</td>\n",
       "      <td>0.227611</td>\n",
       "    </tr>\n",
       "    <tr>\n",
       "      <th>4</th>\n",
       "      <td>sen</td>\n",
       "      <td>NaN</td>\n",
       "      <td>0.415923</td>\n",
       "    </tr>\n",
       "    <tr>\n",
       "      <th>5</th>\n",
       "      <td>sst</td>\n",
       "      <td>NaN</td>\n",
       "      <td>0.252163</td>\n",
       "    </tr>\n",
       "    <tr>\n",
       "      <th>6</th>\n",
       "      <td>watts</td>\n",
       "      <td>NaN</td>\n",
       "      <td>0.525879</td>\n",
       "    </tr>\n",
       "    <tr>\n",
       "      <th>7</th>\n",
       "      <td>cuh</td>\n",
       "      <td>0.0</td>\n",
       "      <td>0.413033</td>\n",
       "    </tr>\n",
       "    <tr>\n",
       "      <th>8</th>\n",
       "      <td>cuh</td>\n",
       "      <td>0.5</td>\n",
       "      <td>0.342701</td>\n",
       "    </tr>\n",
       "    <tr>\n",
       "      <th>9</th>\n",
       "      <td>takayama</td>\n",
       "      <td>NaN</td>\n",
       "      <td>-0.305240</td>\n",
       "    </tr>\n",
       "    <tr>\n",
       "      <th>10</th>\n",
       "      <td>kakwani</td>\n",
       "      <td>NaN</td>\n",
       "      <td>0.437747</td>\n",
       "    </tr>\n",
       "    <tr>\n",
       "      <th>11</th>\n",
       "      <td>thon</td>\n",
       "      <td>NaN</td>\n",
       "      <td>0.465502</td>\n",
       "    </tr>\n",
       "    <tr>\n",
       "      <th>12</th>\n",
       "      <td>bd</td>\n",
       "      <td>1.0</td>\n",
       "      <td>0.376353</td>\n",
       "    </tr>\n",
       "    <tr>\n",
       "      <th>13</th>\n",
       "      <td>bd</td>\n",
       "      <td>2.0</td>\n",
       "      <td>0.503973</td>\n",
       "    </tr>\n",
       "    <tr>\n",
       "      <th>14</th>\n",
       "      <td>hagenaars</td>\n",
       "      <td>NaN</td>\n",
       "      <td>0.134426</td>\n",
       "    </tr>\n",
       "    <tr>\n",
       "      <th>15</th>\n",
       "      <td>chakravarty</td>\n",
       "      <td>0.5</td>\n",
       "      <td>0.189260</td>\n",
       "    </tr>\n",
       "  </tbody>\n",
       "</table>\n",
       "</div>"
      ],
      "text/plain": [
       "         method  alpha   measure\n",
       "0     headcount    NaN  0.626000\n",
       "1           gap    NaN  0.295057\n",
       "2      severity    NaN  0.182768\n",
       "3           fgt    1.5  0.227611\n",
       "4           sen    NaN  0.415923\n",
       "5           sst    NaN  0.252163\n",
       "6         watts    NaN  0.525879\n",
       "7           cuh    0.0  0.413033\n",
       "8           cuh    0.5  0.342701\n",
       "9      takayama    NaN -0.305240\n",
       "10      kakwani    NaN  0.437747\n",
       "11         thon    NaN  0.465502\n",
       "12           bd    1.0  0.376353\n",
       "13           bd    2.0  0.503973\n",
       "14    hagenaars    NaN  0.134426\n",
       "15  chakravarty    0.5  0.189260"
      ]
     },
     "execution_count": 7,
     "metadata": {},
     "output_type": "execute_result"
    }
   ],
   "source": [
    "# Evaluating a list of poverty methods\n",
    "pov_list = [[\"headcount\", None],\n",
    "         [\"gap\", None],\n",
    "         [\"severity\",None],\n",
    "         [\"fgt\",1.5],\n",
    "         [\"sen\",None],\n",
    "         [\"sst\",None],\n",
    "         [\"watts\",None],\n",
    "         [\"cuh\",0],\n",
    "         [\"cuh\",0.5],\n",
    "         [\"takayama\",None],\n",
    "         [\"kakwani\",None],\n",
    "         [\"thon\",None],\n",
    "         [\"bd\",1.0],\n",
    "         [\"bd\",2.0],\n",
    "         [\"hagenaars\",None],\n",
    "         [\"chakravarty\",0.5]]\n",
    "p = []\n",
    "for elem in pov_list:\n",
    "    if elem[1]==None:\n",
    "        p.append(ad2.poverty(elem[0],pline=pline))\n",
    "    else:\n",
    "        p.append(ad2.poverty(elem[0],pline=pline,alpha=elem[1]))\n",
    "        df_p = pd.concat([pd.DataFrame(pov_list),pd.DataFrame(p)],axis=1)\n",
    "df_p.columns = ['method','alpha','measure']\n",
    "df_p   "
   ]
  },
  {
   "cell_type": "markdown",
   "metadata": {},
   "source": [
    "### Graph measures"
   ]
  },
  {
   "cell_type": "code",
   "execution_count": 8,
   "metadata": {},
   "outputs": [
    {
     "name": "stderr",
     "output_type": "stream",
     "text": [
      "No handles with labels found to put in legend.\n"
     ]
    },
    {
     "data": {
      "image/png": "[encoded data removed]",
      "text/plain": [
       "<Figure size 360x288 with 1 Axes>"
      ]
     },
     "metadata": {
      "needs_background": "light"
     },
     "output_type": "display_data"
    }
   ],
   "source": [
    "# TIP curve\n",
    "#ad2.plot(\"tip\",pline=pline);\n",
    "ad2.plot.tip(pline=pline);"
   ]
  },
  {
   "cell_type": "markdown",
   "metadata": {},
   "source": [
    "## Inequality \n",
    "\n",
    "Twelve inequality measures as well as the relative, generalized and absolute Lorenz Curves are implemented. The Lorenz Curves allow to graphically compare the inequality amongst distributions."
   ]
  },
  {
   "cell_type": "markdown",
   "metadata": {},
   "source": [
    "### Numerical measures"
   ]
  },
  {
   "cell_type": "code",
   "execution_count": 9,
   "metadata": {},
   "outputs": [
    {
     "data": {
      "text/plain": [
       "0.3652184907296814"
      ]
     },
     "execution_count": 9,
     "metadata": {},
     "output_type": "execute_result"
    }
   ],
   "source": [
    "# Evaluate an inequality method\n",
    "q = ad2.inequality('gini')\n",
    "q"
   ]
  },
  {
   "cell_type": "code",
   "execution_count": 10,
   "metadata": {},
   "outputs": [
    {
     "data": {
      "text/html": [
       "<div>\n",
       "<style scoped>\n",
       "    .dataframe tbody tr th:only-of-type {\n",
       "        vertical-align: middle;\n",
       "    }\n",
       "\n",
       "    .dataframe tbody tr th {\n",
       "        vertical-align: top;\n",
       "    }\n",
       "\n",
       "    .dataframe thead th {\n",
       "        text-align: right;\n",
       "    }\n",
       "</style>\n",
       "<table border=\"1\" class=\"dataframe\">\n",
       "  <thead>\n",
       "    <tr style=\"text-align: right;\">\n",
       "      <th></th>\n",
       "      <th>method</th>\n",
       "      <th>alpha</th>\n",
       "      <th>measure</th>\n",
       "    </tr>\n",
       "  </thead>\n",
       "  <tbody>\n",
       "    <tr>\n",
       "      <th>0</th>\n",
       "      <td>rrange</td>\n",
       "      <td>NaN</td>\n",
       "      <td>4.194905</td>\n",
       "    </tr>\n",
       "    <tr>\n",
       "      <th>1</th>\n",
       "      <td>rad</td>\n",
       "      <td>NaN</td>\n",
       "      <td>0.264575</td>\n",
       "    </tr>\n",
       "    <tr>\n",
       "      <th>2</th>\n",
       "      <td>cv</td>\n",
       "      <td>NaN</td>\n",
       "      <td>0.664905</td>\n",
       "    </tr>\n",
       "    <tr>\n",
       "      <th>3</th>\n",
       "      <td>sdlog</td>\n",
       "      <td>NaN</td>\n",
       "      <td>0.916263</td>\n",
       "    </tr>\n",
       "    <tr>\n",
       "      <th>4</th>\n",
       "      <td>gini</td>\n",
       "      <td>NaN</td>\n",
       "      <td>0.365218</td>\n",
       "    </tr>\n",
       "    <tr>\n",
       "      <th>5</th>\n",
       "      <td>merhan</td>\n",
       "      <td>NaN</td>\n",
       "      <td>0.512500</td>\n",
       "    </tr>\n",
       "    <tr>\n",
       "      <th>6</th>\n",
       "      <td>piesch</td>\n",
       "      <td>NaN</td>\n",
       "      <td>0.288587</td>\n",
       "    </tr>\n",
       "    <tr>\n",
       "      <th>7</th>\n",
       "      <td>bonferroni</td>\n",
       "      <td>NaN</td>\n",
       "      <td>0.510418</td>\n",
       "    </tr>\n",
       "    <tr>\n",
       "      <th>8</th>\n",
       "      <td>kolm</td>\n",
       "      <td>0.50</td>\n",
       "      <td>36.566749</td>\n",
       "    </tr>\n",
       "    <tr>\n",
       "      <th>9</th>\n",
       "      <td>ratio</td>\n",
       "      <td>0.05</td>\n",
       "      <td>0.032061</td>\n",
       "    </tr>\n",
       "    <tr>\n",
       "      <th>10</th>\n",
       "      <td>ratio</td>\n",
       "      <td>0.20</td>\n",
       "      <td>0.118795</td>\n",
       "    </tr>\n",
       "    <tr>\n",
       "      <th>11</th>\n",
       "      <td>entropy</td>\n",
       "      <td>0.00</td>\n",
       "      <td>0.281897</td>\n",
       "    </tr>\n",
       "    <tr>\n",
       "      <th>12</th>\n",
       "      <td>entropy</td>\n",
       "      <td>1.00</td>\n",
       "      <td>0.217586</td>\n",
       "    </tr>\n",
       "    <tr>\n",
       "      <th>13</th>\n",
       "      <td>entropy</td>\n",
       "      <td>2.00</td>\n",
       "      <td>0.221049</td>\n",
       "    </tr>\n",
       "    <tr>\n",
       "      <th>14</th>\n",
       "      <td>atkinson</td>\n",
       "      <td>0.50</td>\n",
       "      <td>0.114579</td>\n",
       "    </tr>\n",
       "    <tr>\n",
       "      <th>15</th>\n",
       "      <td>atkinson</td>\n",
       "      <td>1.00</td>\n",
       "      <td>0.245649</td>\n",
       "    </tr>\n",
       "    <tr>\n",
       "      <th>16</th>\n",
       "      <td>atkinson</td>\n",
       "      <td>2.00</td>\n",
       "      <td>0.631276</td>\n",
       "    </tr>\n",
       "  </tbody>\n",
       "</table>\n",
       "</div>"
      ],
      "text/plain": [
       "        method  alpha    measure\n",
       "0       rrange    NaN   4.194905\n",
       "1          rad    NaN   0.264575\n",
       "2           cv    NaN   0.664905\n",
       "3        sdlog    NaN   0.916263\n",
       "4         gini    NaN   0.365218\n",
       "5       merhan    NaN   0.512500\n",
       "6       piesch    NaN   0.288587\n",
       "7   bonferroni    NaN   0.510418\n",
       "8         kolm   0.50  36.566749\n",
       "9        ratio   0.05   0.032061\n",
       "10       ratio   0.20   0.118795\n",
       "11     entropy   0.00   0.281897\n",
       "12     entropy   1.00   0.217586\n",
       "13     entropy   2.00   0.221049\n",
       "14    atkinson   0.50   0.114579\n",
       "15    atkinson   1.00   0.245649\n",
       "16    atkinson   2.00   0.631276"
      ]
     },
     "execution_count": 10,
     "metadata": {},
     "output_type": "execute_result"
    }
   ],
   "source": [
    "# Evaluate a list of inequality methods\n",
    "ineq_list = [[\"rrange\", None],\n",
    "         [\"rad\", None],\n",
    "         [\"cv\",None],\n",
    "         [\"sdlog\",None],\n",
    "         [\"gini\",None],\n",
    "         [\"merhan\",None],\n",
    "         [\"piesch\",None],\n",
    "         [\"bonferroni\",None],\n",
    "         [\"kolm\",0.5],\n",
    "         [\"ratio\",0.05],\n",
    "         [\"ratio\",0.2],\n",
    "         [\"entropy\",0],\n",
    "         [\"entropy\",1],\n",
    "         [\"entropy\",2],         \n",
    "         [\"atkinson\",0.5],\n",
    "         [\"atkinson\",1.0],\n",
    "         [\"atkinson\",2.0]]\n",
    "p = []\n",
    "for elem in ineq_list:\n",
    "    if elem[1]==None:\n",
    "        p.append(ad2.inequality(elem[0]))\n",
    "    else:\n",
    "        p.append(ad2.inequality(elem[0],alpha=elem[1]))\n",
    "\n",
    "df_i = pd.concat([pd.DataFrame(ineq_list),pd.DataFrame(p)],axis=1)\n",
    "df_i.columns = ['method','alpha','measure']\n",
    "df_i   "
   ]
  },
  {
   "cell_type": "markdown",
   "metadata": {},
   "source": [
    "### Graph measures\n",
    "\n",
    "An argument is *plot* (True by default)."
   ]
  },
  {
   "cell_type": "code",
   "execution_count": 11,
   "metadata": {},
   "outputs": [
    {
     "data": {
      "image/png": "[encoded data removed]",
      "text/plain": [
       "<Figure size 360x288 with 1 Axes>"
      ]
     },
     "metadata": {
      "needs_background": "light"
     },
     "output_type": "display_data"
    }
   ],
   "source": [
    "# Lorenz Curves\n",
    "ad2.plot.lorenz();"
   ]
  },
  {
   "cell_type": "code",
   "execution_count": 12,
   "metadata": {},
   "outputs": [
    {
     "data": {
      "image/png": "[encoded data removed]",
      "text/plain": [
       "<Figure size 360x288 with 1 Axes>"
      ]
     },
     "metadata": {
      "needs_background": "light"
     },
     "output_type": "display_data"
    }
   ],
   "source": [
    "# Generalized Lorenz Curve\n",
    "ad2.plot.lorenz(alpha='g');"
   ]
  },
  {
   "cell_type": "code",
   "execution_count": 13,
   "metadata": {},
   "outputs": [
    {
     "data": {
      "image/png": "[encoded data removed]",
      "text/plain": [
       "<Figure size 360x288 with 1 Axes>"
      ]
     },
     "metadata": {
      "needs_background": "light"
     },
     "output_type": "display_data"
    }
   ],
   "source": [
    "# Absolute Lorenz Curve\n",
    "ad2.plot.lorenz(alpha='a');"
   ]
  },
  {
   "cell_type": "code",
   "execution_count": 15,
   "metadata": {},
   "outputs": [
    {
     "data": {
      "image/png": "[encoded data removed]",
      "text/plain": [
       "<Figure size 360x288 with 1 Axes>"
      ]
     },
     "metadata": {
      "needs_background": "light"
     },
     "output_type": "display_data"
    }
   ],
   "source": [
    "# Pen's Parade\n",
    "ad2.plot.pen(pline=60);"
   ]
  },
  {
   "cell_type": "markdown",
   "metadata": {},
   "source": [
    "### Exercise: Redistributive Effect of Fiscal Policy\n",
    "\n",
    "Income pre and post fiscal policy:"
   ]
  },
  {
   "cell_type": "code",
   "execution_count": 16,
   "metadata": {},
   "outputs": [],
   "source": [
    "# Income pre fiscal policy:\n",
    "y_pre = np.array([20, 30, 40, 60, 100])\n",
    "\n",
    "# Fiscal policy\n",
    "tax = 0.2*np.maximum(y_pre-35,0)  # tax formula\n",
    "revenue = np.sum(tax)             # total revenue\n",
    "transfers = revenue/len(y_pre)    # per capita transfers\n",
    "\n",
    "# Income post fiscal policy:\n",
    "y_post = y_pre - tax + transfers"
   ]
  },
  {
   "cell_type": "code",
   "execution_count": 17,
   "metadata": {},
   "outputs": [
    {
     "data": {
      "text/html": [
       "<div class=\"apode-data-container\" id=2018279885216><div>\n",
       "<style scoped>\n",
       "    .dataframe tbody tr th:only-of-type {\n",
       "        vertical-align: middle;\n",
       "    }\n",
       "\n",
       "    .dataframe tbody tr th {\n",
       "        vertical-align: top;\n",
       "    }\n",
       "\n",
       "    .dataframe thead th {\n",
       "        text-align: right;\n",
       "    }\n",
       "</style>\n",
       "<table border=\"1\" class=\"dataframe\">\n",
       "  <thead>\n",
       "    <tr style=\"text-align: right;\">\n",
       "      <th></th>\n",
       "      <th>y2</th>\n",
       "    </tr>\n",
       "  </thead>\n",
       "  <tbody>\n",
       "    <tr>\n",
       "      <th>0</th>\n",
       "      <td>23.8</td>\n",
       "    </tr>\n",
       "    <tr>\n",
       "      <th>1</th>\n",
       "      <td>33.8</td>\n",
       "    </tr>\n",
       "    <tr>\n",
       "      <th>2</th>\n",
       "      <td>42.8</td>\n",
       "    </tr>\n",
       "    <tr>\n",
       "      <th>3</th>\n",
       "      <td>58.8</td>\n",
       "    </tr>\n",
       "    <tr>\n",
       "      <th>4</th>\n",
       "      <td>90.8</td>\n",
       "    </tr>\n",
       "  </tbody>\n",
       "</table>\n",
       "</div>ApodeData(income_column='<i>y2</i>') - 5 rows x             1 columns</div>"
      ],
      "text/plain": [
       "     y2\n",
       "0  23.8\n",
       "1  33.8\n",
       "2  42.8\n",
       "3  58.8\n",
       "4  90.8\n",
       "ApodeData(income_column='y2') - 5 rows x             1 columns"
      ]
     },
     "execution_count": 17,
     "metadata": {},
     "output_type": "execute_result"
    }
   ],
   "source": [
    "# ApodeData\n",
    "df_pre = pd.DataFrame({'y1':y_pre})\n",
    "ad_pre = ApodeData(df_pre,income_column='y1')\n",
    "\n",
    "df_post = pd.DataFrame({'y2':y_post})\n",
    "ad_post = ApodeData(df_post,income_column='y2')\n",
    "ad_post"
   ]
  },
  {
   "cell_type": "code",
   "execution_count": 18,
   "metadata": {},
   "outputs": [
    {
     "data": {
      "text/plain": [
       "(0.30399999999999994, 0.25440000000000024)"
      ]
     },
     "execution_count": 18,
     "metadata": {},
     "output_type": "execute_result"
    }
   ],
   "source": [
    "# Gini \n",
    "ad_pre.inequality.gini(), ad_post.inequality.gini()  # decrease inequality"
   ]
  },
  {
   "cell_type": "code",
   "execution_count": 19,
   "metadata": {},
   "outputs": [
    {
     "data": {
      "image/png": "[encoded data removed]",
      "text/plain": [
       "<Figure size 360x288 with 1 Axes>"
      ]
     },
     "metadata": {
      "needs_background": "light"
     },
     "output_type": "display_data"
    }
   ],
   "source": [
    "# Lorenz Curves\n",
    "ax = ad_pre.plot.lorenz()\n",
    "ad_post.plot.lorenz(ax=ax);"
   ]
  },
  {
   "cell_type": "markdown",
   "metadata": {},
   "source": [
    "## Welfare\n",
    "\n",
    "Five social welfare functions are implemented."
   ]
  },
  {
   "cell_type": "code",
   "execution_count": 21,
   "metadata": {},
   "outputs": [
    {
     "data": {
      "text/plain": [
       "28.824397753868958"
      ]
     },
     "execution_count": 21,
     "metadata": {},
     "output_type": "execute_result"
    }
   ],
   "source": [
    "# Evaluate a welfare method\n",
    "w = ad2.welfare('sen')\n",
    "w"
   ]
  },
  {
   "cell_type": "code",
   "execution_count": 22,
   "metadata": {},
   "outputs": [
    {
     "data": {
      "text/html": [
       "<div>\n",
       "<style scoped>\n",
       "    .dataframe tbody tr th:only-of-type {\n",
       "        vertical-align: middle;\n",
       "    }\n",
       "\n",
       "    .dataframe tbody tr th {\n",
       "        vertical-align: top;\n",
       "    }\n",
       "\n",
       "    .dataframe thead th {\n",
       "        text-align: right;\n",
       "    }\n",
       "</style>\n",
       "<table border=\"1\" class=\"dataframe\">\n",
       "  <thead>\n",
       "    <tr style=\"text-align: right;\">\n",
       "      <th></th>\n",
       "      <th>method</th>\n",
       "      <th>alpha</th>\n",
       "      <th>measure</th>\n",
       "    </tr>\n",
       "  </thead>\n",
       "  <tbody>\n",
       "    <tr>\n",
       "      <th>0</th>\n",
       "      <td>utilitarian</td>\n",
       "      <td>NaN</td>\n",
       "      <td>45.408376</td>\n",
       "    </tr>\n",
       "    <tr>\n",
       "      <th>1</th>\n",
       "      <td>rawlsian</td>\n",
       "      <td>NaN</td>\n",
       "      <td>0.112876</td>\n",
       "    </tr>\n",
       "    <tr>\n",
       "      <th>2</th>\n",
       "      <td>sen</td>\n",
       "      <td>NaN</td>\n",
       "      <td>28.824398</td>\n",
       "    </tr>\n",
       "    <tr>\n",
       "      <th>3</th>\n",
       "      <td>theill</td>\n",
       "      <td>NaN</td>\n",
       "      <td>34.253866</td>\n",
       "    </tr>\n",
       "    <tr>\n",
       "      <th>4</th>\n",
       "      <td>theilt</td>\n",
       "      <td>NaN</td>\n",
       "      <td>36.529160</td>\n",
       "    </tr>\n",
       "    <tr>\n",
       "      <th>5</th>\n",
       "      <td>isoelastic</td>\n",
       "      <td>0.0</td>\n",
       "      <td>45.408376</td>\n",
       "    </tr>\n",
       "    <tr>\n",
       "      <th>6</th>\n",
       "      <td>isoelastic</td>\n",
       "      <td>1.0</td>\n",
       "      <td>3.533799</td>\n",
       "    </tr>\n",
       "    <tr>\n",
       "      <th>7</th>\n",
       "      <td>isoelastic</td>\n",
       "      <td>2.0</td>\n",
       "      <td>-0.059726</td>\n",
       "    </tr>\n",
       "    <tr>\n",
       "      <th>8</th>\n",
       "      <td>isoelastic</td>\n",
       "      <td>inf</td>\n",
       "      <td>0.112876</td>\n",
       "    </tr>\n",
       "  </tbody>\n",
       "</table>\n",
       "</div>"
      ],
      "text/plain": [
       "        method  alpha    measure\n",
       "0  utilitarian    NaN  45.408376\n",
       "1     rawlsian    NaN   0.112876\n",
       "2          sen    NaN  28.824398\n",
       "3       theill    NaN  34.253866\n",
       "4       theilt    NaN  36.529160\n",
       "5   isoelastic    0.0  45.408376\n",
       "6   isoelastic    1.0   3.533799\n",
       "7   isoelastic    2.0  -0.059726\n",
       "8   isoelastic    inf   0.112876"
      ]
     },
     "execution_count": 22,
     "metadata": {},
     "output_type": "execute_result"
    }
   ],
   "source": [
    "# Evaluate a list of welfare methods\n",
    "wlf_list = [[\"utilitarian\", None],\n",
    "         [\"rawlsian\", None],\n",
    "         [\"sen\",None],\n",
    "         [\"theill\",None],\n",
    "         [\"theilt\",None],\n",
    "         [\"isoelastic\",0],\n",
    "         [\"isoelastic\",1],\n",
    "         [\"isoelastic\",2],\n",
    "         [\"isoelastic\",np.Inf]]\n",
    "p = []\n",
    "for elem in wlf_list:\n",
    "    if elem[1]==None:\n",
    "        p.append(ad2.welfare(elem[0]))\n",
    "    else:\n",
    "        p.append(ad2.welfare(elem[0],alpha=elem[1]))\n",
    "\n",
    "df_w = pd.concat([pd.DataFrame(wlf_list),pd.DataFrame(p)],axis=1)\n",
    "df_w.columns = ['method','alpha','measure']\n",
    "df_w   "
   ]
  },
  {
   "cell_type": "markdown",
   "metadata": {},
   "source": [
    "## Polarization \n",
    "\n",
    "Two polarization measures are implemented."
   ]
  },
  {
   "cell_type": "code",
   "execution_count": 23,
   "metadata": {},
   "outputs": [
    {
     "data": {
      "text/plain": [
       "0.03316795744715791"
      ]
     },
     "execution_count": 23,
     "metadata": {},
     "output_type": "execute_result"
    }
   ],
   "source": [
    "# Evaluate a polarization method\n",
    "p = ad2.polarization('ray')\n",
    "p"
   ]
  },
  {
   "cell_type": "code",
   "execution_count": 24,
   "metadata": {},
   "outputs": [
    {
     "data": {
      "text/html": [
       "<div>\n",
       "<style scoped>\n",
       "    .dataframe tbody tr th:only-of-type {\n",
       "        vertical-align: middle;\n",
       "    }\n",
       "\n",
       "    .dataframe tbody tr th {\n",
       "        vertical-align: top;\n",
       "    }\n",
       "\n",
       "    .dataframe thead th {\n",
       "        text-align: right;\n",
       "    }\n",
       "</style>\n",
       "<table border=\"1\" class=\"dataframe\">\n",
       "  <thead>\n",
       "    <tr style=\"text-align: right;\">\n",
       "      <th></th>\n",
       "      <th>method</th>\n",
       "      <th>alpha</th>\n",
       "      <th>measure</th>\n",
       "    </tr>\n",
       "  </thead>\n",
       "  <tbody>\n",
       "    <tr>\n",
       "      <th>0</th>\n",
       "      <td>ray</td>\n",
       "      <td>None</td>\n",
       "      <td>0.033168</td>\n",
       "    </tr>\n",
       "    <tr>\n",
       "      <th>1</th>\n",
       "      <td>wolfson</td>\n",
       "      <td>None</td>\n",
       "      <td>0.357081</td>\n",
       "    </tr>\n",
       "  </tbody>\n",
       "</table>\n",
       "</div>"
      ],
      "text/plain": [
       "    method alpha   measure\n",
       "0      ray  None  0.033168\n",
       "1  wolfson  None  0.357081"
      ]
     },
     "execution_count": 24,
     "metadata": {},
     "output_type": "execute_result"
    }
   ],
   "source": [
    "# Evaluate a list of polarization methods\n",
    "pol_list = [[\"ray\", None],\n",
    "         [\"wolfson\", None]]\n",
    "p = []\n",
    "for elem in pol_list:\n",
    "    if elem[1]==None:\n",
    "        p.append(ad2.polarization(elem[0]))\n",
    "    else:\n",
    "        p.append(ad2.polarization(elem[0],alpha=elem[1]))\n",
    "df_pz = pd.concat([pd.DataFrame(pol_list),pd.DataFrame(p)],axis=1)\n",
    "df_pz.columns = ['method','alpha','measure']\n",
    "df_pz "
   ]
  },
  {
   "cell_type": "markdown",
   "metadata": {},
   "source": [
    "## Concentration\n",
    "\n",
    "Four concentration measures commonly used to analyze industrial concentration are implemented."
   ]
  },
  {
   "cell_type": "code",
   "execution_count": 25,
   "metadata": {},
   "outputs": [
    {
     "data": {
      "text/plain": [
       "0.00044254144331556705"
      ]
     },
     "execution_count": 25,
     "metadata": {},
     "output_type": "execute_result"
    }
   ],
   "source": [
    "# Evaluate a concentration method\n",
    "c = ad2.concentration('herfindahl')\n",
    "c"
   ]
  },
  {
   "cell_type": "code",
   "execution_count": 27,
   "metadata": {},
   "outputs": [
    {
     "data": {
      "text/html": [
       "<div>\n",
       "<style scoped>\n",
       "    .dataframe tbody tr th:only-of-type {\n",
       "        vertical-align: middle;\n",
       "    }\n",
       "\n",
       "    .dataframe tbody tr th {\n",
       "        vertical-align: top;\n",
       "    }\n",
       "\n",
       "    .dataframe thead th {\n",
       "        text-align: right;\n",
       "    }\n",
       "</style>\n",
       "<table border=\"1\" class=\"dataframe\">\n",
       "  <thead>\n",
       "    <tr style=\"text-align: right;\">\n",
       "      <th></th>\n",
       "      <th>method</th>\n",
       "      <th>alpha</th>\n",
       "      <th>measure</th>\n",
       "    </tr>\n",
       "  </thead>\n",
       "  <tbody>\n",
       "    <tr>\n",
       "      <th>0</th>\n",
       "      <td>herfindahl</td>\n",
       "      <td>None</td>\n",
       "      <td>0.000443</td>\n",
       "    </tr>\n",
       "    <tr>\n",
       "      <th>1</th>\n",
       "      <td>herfindahl</td>\n",
       "      <td>True</td>\n",
       "      <td>0.000443</td>\n",
       "    </tr>\n",
       "    <tr>\n",
       "      <th>2</th>\n",
       "      <td>rosenbluth</td>\n",
       "      <td>None</td>\n",
       "      <td>0.001575</td>\n",
       "    </tr>\n",
       "    <tr>\n",
       "      <th>3</th>\n",
       "      <td>concentration_ratio</td>\n",
       "      <td>1</td>\n",
       "      <td>0.004197</td>\n",
       "    </tr>\n",
       "    <tr>\n",
       "      <th>4</th>\n",
       "      <td>concentration_ratio</td>\n",
       "      <td>5</td>\n",
       "      <td>0.017352</td>\n",
       "    </tr>\n",
       "  </tbody>\n",
       "</table>\n",
       "</div>"
      ],
      "text/plain": [
       "                method alpha   measure\n",
       "0           herfindahl  None  0.000443\n",
       "1           herfindahl  True  0.000443\n",
       "2           rosenbluth  None  0.001575\n",
       "3  concentration_ratio     1  0.004197\n",
       "4  concentration_ratio     5  0.017352"
      ]
     },
     "execution_count": 27,
     "metadata": {},
     "output_type": "execute_result"
    }
   ],
   "source": [
    "# Evaluate a list of concentration methods\n",
    "conc_list = [[\"herfindahl\", None],\n",
    "         [\"herfindahl\", True],\n",
    "         [\"rosenbluth\",None],\n",
    "         [\"concentration_ratio\",1],\n",
    "         [\"concentration_ratio\",5]]\n",
    "p = []\n",
    "for elem in conc_list:\n",
    "    if elem[1]==None:\n",
    "        p.append(ad2.concentration(elem[0]))\n",
    "    else:\n",
    "        if elem[0]==\"herfindahl\":\n",
    "            p.append(ad2.concentration(elem[0],normalized=elem[1]))  # check keyword\n",
    "        elif elem[0]==\"concentration_ratio\":\n",
    "            p.append(ad2.concentration(elem[0],k=elem[1]))  # check keyword            \n",
    "        else:\n",
    "            p.append(ad2.concentration(elem[0],alpha=elem[1]))\n",
    "\n",
    "df_c = pd.concat([pd.DataFrame(conc_list),pd.DataFrame(p)],axis=1)\n",
    "df_c.columns = ['method','alpha','measure']\n",
    "df_c "
   ]
  },
  {
   "cell_type": "markdown",
   "metadata": {},
   "source": [
    "## Tools\n",
    "\n",
    "### Decomposition\n",
    "\n",
    "The measures can be applied in subgroups according to a certain category. For instance:"
   ]
  },
  {
   "cell_type": "code",
   "execution_count": 28,
   "metadata": {},
   "outputs": [
    {
     "data": {
      "text/html": [
       "<div>\n",
       "<style scoped>\n",
       "    .dataframe tbody tr th:only-of-type {\n",
       "        vertical-align: middle;\n",
       "    }\n",
       "\n",
       "    .dataframe tbody tr th {\n",
       "        vertical-align: top;\n",
       "    }\n",
       "\n",
       "    .dataframe thead th {\n",
       "        text-align: right;\n",
       "    }\n",
       "</style>\n",
       "<table border=\"1\" class=\"dataframe\">\n",
       "  <thead>\n",
       "    <tr style=\"text-align: right;\">\n",
       "      <th></th>\n",
       "      <th>x</th>\n",
       "      <th>y</th>\n",
       "      <th>w</th>\n",
       "    </tr>\n",
       "  </thead>\n",
       "  <tbody>\n",
       "    <tr>\n",
       "      <th>0</th>\n",
       "      <td>23</td>\n",
       "      <td>10</td>\n",
       "      <td>1</td>\n",
       "    </tr>\n",
       "    <tr>\n",
       "      <th>1</th>\n",
       "      <td>10</td>\n",
       "      <td>10</td>\n",
       "      <td>2</td>\n",
       "    </tr>\n",
       "    <tr>\n",
       "      <th>2</th>\n",
       "      <td>12</td>\n",
       "      <td>20</td>\n",
       "      <td>3</td>\n",
       "    </tr>\n",
       "    <tr>\n",
       "      <th>3</th>\n",
       "      <td>21</td>\n",
       "      <td>10</td>\n",
       "      <td>4</td>\n",
       "    </tr>\n",
       "    <tr>\n",
       "      <th>4</th>\n",
       "      <td>4</td>\n",
       "      <td>10</td>\n",
       "      <td>5</td>\n",
       "    </tr>\n",
       "    <tr>\n",
       "      <th>5</th>\n",
       "      <td>8</td>\n",
       "      <td>20</td>\n",
       "      <td>6</td>\n",
       "    </tr>\n",
       "    <tr>\n",
       "      <th>6</th>\n",
       "      <td>19</td>\n",
       "      <td>20</td>\n",
       "      <td>7</td>\n",
       "    </tr>\n",
       "    <tr>\n",
       "      <th>7</th>\n",
       "      <td>15</td>\n",
       "      <td>20</td>\n",
       "      <td>8</td>\n",
       "    </tr>\n",
       "    <tr>\n",
       "      <th>8</th>\n",
       "      <td>5</td>\n",
       "      <td>10</td>\n",
       "      <td>9</td>\n",
       "    </tr>\n",
       "    <tr>\n",
       "      <th>9</th>\n",
       "      <td>7</td>\n",
       "      <td>10</td>\n",
       "      <td>10</td>\n",
       "    </tr>\n",
       "  </tbody>\n",
       "</table>\n",
       "</div>"
      ],
      "text/plain": [
       "    x   y   w\n",
       "0  23  10   1\n",
       "1  10  10   2\n",
       "2  12  20   3\n",
       "3  21  10   4\n",
       "4   4  10   5\n",
       "5   8  20   6\n",
       "6  19  20   7\n",
       "7  15  20   8\n",
       "8   5  10   9\n",
       "9   7  10  10"
      ]
     },
     "execution_count": 28,
     "metadata": {},
     "output_type": "execute_result"
    }
   ],
   "source": [
    "x = [23, 10, 12, 21, 4, 8, 19, 15, 5, 7]\n",
    "y = [10,10,20,10,10,20,20,20,10,10] \n",
    "w = np.arange(1,11)\n",
    "dfa = pd.DataFrame({'x':x,'y':y,'w':w})\n",
    "dfa"
   ]
  },
  {
   "cell_type": "code",
   "execution_count": 29,
   "metadata": {},
   "outputs": [
    {
     "data": {
      "text/plain": [
       "0.5"
      ]
     },
     "execution_count": 29,
     "metadata": {},
     "output_type": "execute_result"
    }
   ],
   "source": [
    "# simple calculation\n",
    "pline = 11\n",
    "ada1 = ApodeData(dfa,income_column='x') \n",
    "p1 = ada1.poverty('headcount',pline=pline)\n",
    "p1"
   ]
  },
  {
   "cell_type": "code",
   "execution_count": 30,
   "metadata": {},
   "outputs": [],
   "source": [
    "# receives a dataframe and applies a measure according to the column \"varg\"\n",
    "\n",
    "def poverty_gby(dfa,method,varg,pline):\n",
    "    grouped = dfa.groupby(varg)\n",
    "    a = []\n",
    "    b = []\n",
    "    c = []\n",
    "    income_column = 'x'\n",
    "    for name, group in grouped:\n",
    "        y = group[income_column].values\n",
    "        count = group.shape[0]\n",
    "        adi = ApodeData({income_column:y},income_column=income_column)\n",
    "        p = adi.poverty(method,pline=pline)\n",
    "        a.append(name)\n",
    "        b.append(p)\n",
    "        c.append(count)\n",
    "    xname = income_column + \"_measure\"\n",
    "    wname =income_column + \"_weight\"\n",
    "    return pd.DataFrame({xname: b, wname: c}, index=pd.Index(a))    "
   ]
  },
  {
   "cell_type": "code",
   "execution_count": 31,
   "metadata": {},
   "outputs": [
    {
     "data": {
      "text/html": [
       "<div>\n",
       "<style scoped>\n",
       "    .dataframe tbody tr th:only-of-type {\n",
       "        vertical-align: middle;\n",
       "    }\n",
       "\n",
       "    .dataframe tbody tr th {\n",
       "        vertical-align: top;\n",
       "    }\n",
       "\n",
       "    .dataframe thead th {\n",
       "        text-align: right;\n",
       "    }\n",
       "</style>\n",
       "<table border=\"1\" class=\"dataframe\">\n",
       "  <thead>\n",
       "    <tr style=\"text-align: right;\">\n",
       "      <th></th>\n",
       "      <th>x_measure</th>\n",
       "      <th>x_weight</th>\n",
       "    </tr>\n",
       "  </thead>\n",
       "  <tbody>\n",
       "    <tr>\n",
       "      <th>10</th>\n",
       "      <td>0.666667</td>\n",
       "      <td>6</td>\n",
       "    </tr>\n",
       "    <tr>\n",
       "      <th>20</th>\n",
       "      <td>0.250000</td>\n",
       "      <td>4</td>\n",
       "    </tr>\n",
       "  </tbody>\n",
       "</table>\n",
       "</div>"
      ],
      "text/plain": [
       "    x_measure  x_weight\n",
       "10   0.666667         6\n",
       "20   0.250000         4"
      ]
     },
     "execution_count": 31,
     "metadata": {},
     "output_type": "execute_result"
    }
   ],
   "source": [
    "# group calculation according to variable \"y\"\n",
    "p2 = poverty_gby(dfa,'headcount',varg='y', pline=pline)\n",
    "p2"
   ]
  },
  {
   "cell_type": "code",
   "execution_count": 32,
   "metadata": {},
   "outputs": [
    {
     "data": {
      "text/plain": [
       "0.5"
      ]
     },
     "execution_count": 32,
     "metadata": {},
     "output_type": "execute_result"
    }
   ],
   "source": [
    "# If the indicator is decomposable, the same result is attained:\n",
    "p2_p = sum(p2['x_measure']*p2['x_weight']/sum(p2['x_weight']))\n",
    "p2_p"
   ]
  },
  {
   "cell_type": "markdown",
   "metadata": {},
   "source": [
    "## References\n",
    "\n",
    "* Cowell, F. (2011) Measuring Inequality. London School of Economics Perspectives in Economic Analysis. 3rd ed. Edición. Oxford University Press\n",
    "http://darp.lse.ac.uk/papersDB/Cowell_measuringinequality3.pdf\n",
    "* Cowell, F. (2016) “Inequality and Poverty Measures”, in Oxford Handbook of Well-Being And Public Policy, edited by Matthew D. Adler and Marc Fleurbaey \n",
    "* Haughton, J. and S. Khandker (2009). Handbook on Poverty + Inequality. World Bank Training Series. https://openknowledge.worldbank.org/bitstream/handle/10986/11985/9780821376133.pdf\n",
    "* POBREZA Y DESIGUALDAD EN AMÉRICA LATINA. https://www.cedlas.econo.unlp.edu.ar/wp/wp-content/uploads/Pobreza_desigualdad_-America_Latina.pdf\n",
    "* Araar Abdelkrim and Jean-Yves Duclos (2007). \"DASP: Distributive Analysis  Stata Package\", PEP, World Bank, UNDP and Université Laval. http://dasp.ecn.ulaval.ca/"
   ]
  }
 ],
 "metadata": {
  "kernelspec": {
   "display_name": "Python 3",
   "language": "python",
   "name": "python3"
  },
  "language_info": {
   "codemirror_mode": {
    "name": "ipython",
    "version": 3
   },
   "file_extension": ".py",
   "mimetype": "text/x-python",
   "name": "python",
   "nbconvert_exporter": "python",
   "pygments_lexer": "ipython3",
   "version": "3.8.5"
  }
 },
 "nbformat": 4,
 "nbformat_minor": 4
}
