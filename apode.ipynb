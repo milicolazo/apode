{
 "cells": [
  {
   "cell_type": "markdown",
   "metadata": {},
   "source": [
    "# APODE\n",
    "\n",
    "Este documento muestra la funcionalidad actual del paquete apode. El mismo provee una clase que hereda (pendiente) de la clase DataFrame.\n",
    "\n",
    "Esta clase dispone de varios métodos que calculan medidas y generan gráficos en los siguuinetes temas:\n",
    "\n",
    "* Pobreza\n",
    "* Desigualdad\n",
    "* Bienestar\n",
    "* Polarización\n",
    "* Concentración\n",
    "\n",
    "Otros temas serán agregados más adelante.\n",
    "\n",
    "Al momento los algoritmos no han sido testeados y es escasa la documentación. \n",
    "\n",
    "# Clase IneqMeasure\n",
    "\n",
    "Los objetos se crean mediante:\n",
    "\n",
    "    df = IneqMeasure(data, varx=None, weight=None, issorted=False):\n",
    "    \n",
    "Métodos para acceder/modificar atributos:\n",
    "\n",
    "    df.data\n",
    "    df.varx\n",
    "    df.weight\n",
    "    df.issorted\n",
    "    df.sort()\n",
    "    \n",
    "Métodos sobre el dataframe:\n",
    "\n",
    "    df.describe()\n",
    "    df.columns()\n",
    "    df.ndim()\n",
    "    df.shape()\n",
    "    df.size()\n",
    "    df.display()\n",
    "\n",
    "Metodos que calculan indicadores:\n",
    "   \n",
    "    df.poverty(method,*args)    \n",
    "    df.tip(*args)\n",
    "    df.ineq(method,*args)\n",
    "    df.lorenz(*args)\n",
    "    df.welfare(method,*args) \n",
    "    df.polar(method,*args)\n",
    "    df.conc(method,*args)\n",
    " \n",
    "\n"
   ]
  },
  {
   "cell_type": "code",
   "execution_count": 1,
   "metadata": {},
   "outputs": [],
   "source": [
    "import matplotlib.pyplot as plt\n",
    "import seaborn as sns\n",
    "\n",
    "import numpy as np\n",
    "import pandas as pd\n",
    "\n",
    "from apode import IneqMeasure # clase\n",
    "from apode import distribution_examples,joinpar # test"
   ]
  },
  {
   "cell_type": "markdown",
   "metadata": {},
   "source": [
    "# Generar datos\n",
    "\n",
    "* Los datos pueden generarse manualmente o mediante simuación. Estan contenidos en un DataFrame\n",
    "* Los datos pueden estar agrupados. En este caso una variable contiene las frecuencias.\n",
    "* Pueden existir otras variables categóricas que permiten aplicar los indicadores por grupos (groupby)\n",
    "* Un parámetros indica si los datos están ordenados (por defecto no)\n",
    "\n",
    "    \n",
    "\n",
    "## Carga manual\n",
    "\n",
    "Se puede crear objeto desde un DataFrame o desde un argumento válido de la funcion DataFrame. La función *binning* se puede usar para agrupar datos."
   ]
  },
  {
   "cell_type": "code",
   "execution_count": 2,
   "metadata": {},
   "outputs": [
    {
     "data": {
      "text/html": [
       "<div>\n",
       "<style scoped>\n",
       "    .dataframe tbody tr th:only-of-type {\n",
       "        vertical-align: middle;\n",
       "    }\n",
       "\n",
       "    .dataframe tbody tr th {\n",
       "        vertical-align: top;\n",
       "    }\n",
       "\n",
       "    .dataframe thead th {\n",
       "        text-align: right;\n",
       "    }\n",
       "</style>\n",
       "<table border=\"1\" class=\"dataframe\">\n",
       "  <thead>\n",
       "    <tr style=\"text-align: right;\">\n",
       "      <th></th>\n",
       "      <th>x</th>\n",
       "    </tr>\n",
       "  </thead>\n",
       "  <tbody>\n",
       "    <tr>\n",
       "      <th>0</th>\n",
       "      <td>23</td>\n",
       "    </tr>\n",
       "    <tr>\n",
       "      <th>1</th>\n",
       "      <td>10</td>\n",
       "    </tr>\n",
       "    <tr>\n",
       "      <th>2</th>\n",
       "      <td>12</td>\n",
       "    </tr>\n",
       "    <tr>\n",
       "      <th>3</th>\n",
       "      <td>21</td>\n",
       "    </tr>\n",
       "    <tr>\n",
       "      <th>4</th>\n",
       "      <td>4</td>\n",
       "    </tr>\n",
       "    <tr>\n",
       "      <th>5</th>\n",
       "      <td>8</td>\n",
       "    </tr>\n",
       "    <tr>\n",
       "      <th>6</th>\n",
       "      <td>19</td>\n",
       "    </tr>\n",
       "    <tr>\n",
       "      <th>7</th>\n",
       "      <td>15</td>\n",
       "    </tr>\n",
       "    <tr>\n",
       "      <th>8</th>\n",
       "      <td>11</td>\n",
       "    </tr>\n",
       "    <tr>\n",
       "      <th>9</th>\n",
       "      <td>9</td>\n",
       "    </tr>\n",
       "  </tbody>\n",
       "</table>\n",
       "</div>"
      ],
      "text/plain": [
       "    x\n",
       "0  23\n",
       "1  10\n",
       "2  12\n",
       "3  21\n",
       "4   4\n",
       "5   8\n",
       "6  19\n",
       "7  15\n",
       "8  11\n",
       "9   9"
      ]
     },
     "metadata": {},
     "output_type": "display_data"
    }
   ],
   "source": [
    "# dr1a y dr1b son equivalentes\n",
    "x = [23, 10, 12, 21, 4, 8, 19, 15, 11, 9]\n",
    "dr1a = IneqMeasure(x) \n",
    "\n",
    "df1 = pd.DataFrame({'x':x})\n",
    "dr1b = IneqMeasure(df1) \n",
    "\n",
    "dr1b.display()"
   ]
  },
  {
   "cell_type": "markdown",
   "metadata": {},
   "source": [
    "## Lectura desde la web\n",
    "\n",
    "Falta de implementar. "
   ]
  },
  {
   "cell_type": "markdown",
   "metadata": {},
   "source": [
    "## Simulación \n",
    "\n",
    "La función *distribution_examples* brinda algunos ejemplos de distribuciones usuales para modelar la distribución del ingreso.\n",
    "\n",
    "Se generan dos objetos (datos agrupados y no agrupados) que serán utilizados más adelante para mostrar la aplicación de diferentes medidas (muchos de las medidas aún no estan implementadas para datos agrupados).\n",
    "\n",
    "### Datos no agregados"
   ]
  },
  {
   "cell_type": "code",
   "execution_count": 3,
   "metadata": {},
   "outputs": [
    {
     "data": {
      "image/png": "[encoded data removed]",
      "text/plain": [
       "<Figure size 432x288 with 1 Axes>"
      ]
     },
     "metadata": {
      "needs_background": "light"
     },
     "output_type": "display_data"
    }
   ],
   "source": [
    "# Generar datos\n",
    "n = 1000 # observaciones\n",
    "j_d = 6  # elegir distribción\n",
    "listd = ['uniform','lognormal','exponential','pareto','chisquare','gamma','weibull']\n",
    "fdistr = listd[j_d]\n",
    "df2 = distribution_examples(fdistr,n)\n",
    "\n",
    "# Crear objeto (sin agrupamiento)\n",
    "dr2 = IneqMeasure(df2) \n",
    "\n",
    "# Graficar distribución\n",
    "sns.distplot(df2).set_title(fdistr)\n",
    "plt.show()"
   ]
  },
  {
   "cell_type": "markdown",
   "metadata": {},
   "source": [
    "### Datos agregados"
   ]
  },
  {
   "cell_type": "code",
   "execution_count": 4,
   "metadata": {},
   "outputs": [
    {
     "data": {
      "text/html": [
       "<div>\n",
       "<style scoped>\n",
       "    .dataframe tbody tr th:only-of-type {\n",
       "        vertical-align: middle;\n",
       "    }\n",
       "\n",
       "    .dataframe tbody tr th {\n",
       "        vertical-align: top;\n",
       "    }\n",
       "\n",
       "    .dataframe thead th {\n",
       "        text-align: right;\n",
       "    }\n",
       "</style>\n",
       "<table border=\"1\" class=\"dataframe\">\n",
       "  <thead>\n",
       "    <tr style=\"text-align: right;\">\n",
       "      <th></th>\n",
       "      <th>weight</th>\n",
       "      <th>x</th>\n",
       "    </tr>\n",
       "  </thead>\n",
       "  <tbody>\n",
       "    <tr>\n",
       "      <th>0</th>\n",
       "      <td>178</td>\n",
       "      <td>20.589205</td>\n",
       "    </tr>\n",
       "    <tr>\n",
       "      <th>1</th>\n",
       "      <td>244</td>\n",
       "      <td>52.883447</td>\n",
       "    </tr>\n",
       "    <tr>\n",
       "      <th>2</th>\n",
       "      <td>238</td>\n",
       "      <td>87.451995</td>\n",
       "    </tr>\n",
       "    <tr>\n",
       "      <th>3</th>\n",
       "      <td>145</td>\n",
       "      <td>120.931025</td>\n",
       "    </tr>\n",
       "    <tr>\n",
       "      <th>4</th>\n",
       "      <td>91</td>\n",
       "      <td>155.911831</td>\n",
       "    </tr>\n",
       "    <tr>\n",
       "      <th>5</th>\n",
       "      <td>64</td>\n",
       "      <td>189.349074</td>\n",
       "    </tr>\n",
       "    <tr>\n",
       "      <th>6</th>\n",
       "      <td>20</td>\n",
       "      <td>224.551138</td>\n",
       "    </tr>\n",
       "    <tr>\n",
       "      <th>7</th>\n",
       "      <td>12</td>\n",
       "      <td>255.168058</td>\n",
       "    </tr>\n",
       "    <tr>\n",
       "      <th>8</th>\n",
       "      <td>4</td>\n",
       "      <td>284.811409</td>\n",
       "    </tr>\n",
       "    <tr>\n",
       "      <th>9</th>\n",
       "      <td>4</td>\n",
       "      <td>334.051404</td>\n",
       "    </tr>\n",
       "  </tbody>\n",
       "</table>\n",
       "</div>"
      ],
      "text/plain": [
       "   weight           x\n",
       "0     178   20.589205\n",
       "1     244   52.883447\n",
       "2     238   87.451995\n",
       "3     145  120.931025\n",
       "4      91  155.911831\n",
       "5      64  189.349074\n",
       "6      20  224.551138\n",
       "7      12  255.168058\n",
       "8       4  284.811409\n",
       "9       4  334.051404"
      ]
     },
     "metadata": {},
     "output_type": "display_data"
    }
   ],
   "source": [
    "# Generar datos con agrupamiento\n",
    "nbins = 10 # maximo, se descartan NAN\n",
    "df3 = distribution_examples(fdistr,n,nbins)\n",
    "\n",
    "# Crear objeto\n",
    "dr3 = IneqMeasure(df3,varx = 'x',weight='weight')  \n",
    "\n",
    "dr3.display()"
   ]
  },
  {
   "cell_type": "markdown",
   "metadata": {},
   "source": [
    "La variable x y el ponderador se pueden modificar luego de crear el objeto (mientras estén presentes en el dataframe)"
   ]
  },
  {
   "cell_type": "markdown",
   "metadata": {},
   "source": [
    "# Data description\n",
    "\n",
    "El método **describe** extiende la función describe de DataFrame, para incluir parámetros y tratar el caso de datos agrupados"
   ]
  },
  {
   "cell_type": "code",
   "execution_count": 5,
   "metadata": {},
   "outputs": [
    {
     "data": {
      "text/html": [
       "<div>\n",
       "<style scoped>\n",
       "    .dataframe tbody tr th:only-of-type {\n",
       "        vertical-align: middle;\n",
       "    }\n",
       "\n",
       "    .dataframe tbody tr th {\n",
       "        vertical-align: top;\n",
       "    }\n",
       "\n",
       "    .dataframe thead th {\n",
       "        text-align: right;\n",
       "    }\n",
       "</style>\n",
       "<table border=\"1\" class=\"dataframe\">\n",
       "  <thead>\n",
       "    <tr style=\"text-align: right;\">\n",
       "      <th></th>\n",
       "      <th>x</th>\n",
       "    </tr>\n",
       "  </thead>\n",
       "  <tbody>\n",
       "    <tr>\n",
       "      <th>weight</th>\n",
       "      <td>False</td>\n",
       "    </tr>\n",
       "    <tr>\n",
       "      <th>bins</th>\n",
       "      <td>10</td>\n",
       "    </tr>\n",
       "    <tr>\n",
       "      <th>sorted</th>\n",
       "      <td>False</td>\n",
       "    </tr>\n",
       "    <tr>\n",
       "      <th>count</th>\n",
       "      <td>10</td>\n",
       "    </tr>\n",
       "    <tr>\n",
       "      <th>mean</th>\n",
       "      <td>13.2</td>\n",
       "    </tr>\n",
       "    <tr>\n",
       "      <th>std</th>\n",
       "      <td>6.14275</td>\n",
       "    </tr>\n",
       "    <tr>\n",
       "      <th>min</th>\n",
       "      <td>4</td>\n",
       "    </tr>\n",
       "    <tr>\n",
       "      <th>25%</th>\n",
       "      <td>9.25</td>\n",
       "    </tr>\n",
       "    <tr>\n",
       "      <th>50%</th>\n",
       "      <td>11.5</td>\n",
       "    </tr>\n",
       "    <tr>\n",
       "      <th>75%</th>\n",
       "      <td>18</td>\n",
       "    </tr>\n",
       "    <tr>\n",
       "      <th>max</th>\n",
       "      <td>23</td>\n",
       "    </tr>\n",
       "  </tbody>\n",
       "</table>\n",
       "</div>"
      ],
      "text/plain": [
       "              x\n",
       "weight    False\n",
       "bins         10\n",
       "sorted    False\n",
       "count        10\n",
       "mean       13.2\n",
       "std     6.14275\n",
       "min           4\n",
       "25%        9.25\n",
       "50%        11.5\n",
       "75%          18\n",
       "max          23"
      ]
     },
     "execution_count": 5,
     "metadata": {},
     "output_type": "execute_result"
    }
   ],
   "source": [
    "dr1b.describe()"
   ]
  },
  {
   "cell_type": "code",
   "execution_count": 6,
   "metadata": {},
   "outputs": [
    {
     "data": {
      "text/html": [
       "<div>\n",
       "<style scoped>\n",
       "    .dataframe tbody tr th:only-of-type {\n",
       "        vertical-align: middle;\n",
       "    }\n",
       "\n",
       "    .dataframe tbody tr th {\n",
       "        vertical-align: top;\n",
       "    }\n",
       "\n",
       "    .dataframe thead th {\n",
       "        text-align: right;\n",
       "    }\n",
       "</style>\n",
       "<table border=\"1\" class=\"dataframe\">\n",
       "  <thead>\n",
       "    <tr style=\"text-align: right;\">\n",
       "      <th></th>\n",
       "      <th>x</th>\n",
       "    </tr>\n",
       "  </thead>\n",
       "  <tbody>\n",
       "    <tr>\n",
       "      <th>weight</th>\n",
       "      <td>True</td>\n",
       "    </tr>\n",
       "    <tr>\n",
       "      <th>bins</th>\n",
       "      <td>10</td>\n",
       "    </tr>\n",
       "    <tr>\n",
       "      <th>sorted</th>\n",
       "      <td>False</td>\n",
       "    </tr>\n",
       "    <tr>\n",
       "      <th>count</th>\n",
       "      <td>1000</td>\n",
       "    </tr>\n",
       "    <tr>\n",
       "      <th>mean</th>\n",
       "      <td>91.2518</td>\n",
       "    </tr>\n",
       "    <tr>\n",
       "      <th>min</th>\n",
       "      <td>20.5892</td>\n",
       "    </tr>\n",
       "    <tr>\n",
       "      <th>max</th>\n",
       "      <td>334.051</td>\n",
       "    </tr>\n",
       "  </tbody>\n",
       "</table>\n",
       "</div>"
      ],
      "text/plain": [
       "              x\n",
       "weight     True\n",
       "bins         10\n",
       "sorted    False\n",
       "count      1000\n",
       "mean    91.2518\n",
       "min     20.5892\n",
       "max     334.051"
      ]
     },
     "execution_count": 6,
     "metadata": {},
     "output_type": "execute_result"
    }
   ],
   "source": [
    "dr3.describe()"
   ]
  },
  {
   "cell_type": "markdown",
   "metadata": {},
   "source": [
    "Otros métodos:"
   ]
  },
  {
   "cell_type": "code",
   "execution_count": 7,
   "metadata": {},
   "outputs": [
    {
     "data": {
      "text/plain": [
       "['weight', 'x']"
      ]
     },
     "execution_count": 7,
     "metadata": {},
     "output_type": "execute_result"
    }
   ],
   "source": [
    "dr3.columns()"
   ]
  },
  {
   "cell_type": "code",
   "execution_count": 8,
   "metadata": {},
   "outputs": [
    {
     "data": {
      "text/plain": [
       "((10, 2), 2, 20)"
      ]
     },
     "execution_count": 8,
     "metadata": {},
     "output_type": "execute_result"
    }
   ],
   "source": [
    "dr3.shape(),dr3.ndim(),dr3.size()  # requieren parentesis en la invocacion"
   ]
  },
  {
   "cell_type": "markdown",
   "metadata": {},
   "source": [
    "# Poverty\n",
    "\n",
    "EStán implementados 11 medidas de pobreza y la curva TIP (permite comparar gráficamente la pobreza entre distribuciones)"
   ]
  },
  {
   "cell_type": "code",
   "execution_count": 9,
   "metadata": {},
   "outputs": [
    {
     "data": {
      "text/plain": [
       "0.292"
      ]
     },
     "execution_count": 9,
     "metadata": {},
     "output_type": "execute_result"
    }
   ],
   "source": [
    "pline = 50 # Poverty line\n",
    "# Evaluar un método - datos sin agrupar\n",
    "p = dr2.poverty('fgt0',pline)\n",
    "p"
   ]
  },
  {
   "cell_type": "code",
   "execution_count": 10,
   "metadata": {},
   "outputs": [
    {
     "data": {
      "text/plain": [
       "0.178"
      ]
     },
     "execution_count": 10,
     "metadata": {},
     "output_type": "execute_result"
    }
   ],
   "source": [
    "# Evaluar un método - datos agrupados\n",
    "p = dr3.poverty('fgt0',pline)\n",
    "p"
   ]
  },
  {
   "cell_type": "code",
   "execution_count": 11,
   "metadata": {},
   "outputs": [
    {
     "name": "stderr",
     "output_type": "stream",
     "text": [
      "D:\\GitHub\\apode\\apode\\poverty.py:76: RuntimeWarning: overflow encountered in int_scalars\n",
      "  p = (q/(n*pline*a))*u\n"
     ]
    },
    {
     "data": {
      "text/html": [
       "<div>\n",
       "<style scoped>\n",
       "    .dataframe tbody tr th:only-of-type {\n",
       "        vertical-align: middle;\n",
       "    }\n",
       "\n",
       "    .dataframe tbody tr th {\n",
       "        vertical-align: top;\n",
       "    }\n",
       "\n",
       "    .dataframe thead th {\n",
       "        text-align: right;\n",
       "    }\n",
       "</style>\n",
       "<table border=\"1\" class=\"dataframe\">\n",
       "  <thead>\n",
       "    <tr style=\"text-align: right;\">\n",
       "      <th></th>\n",
       "      <th>method</th>\n",
       "      <th>pline</th>\n",
       "      <th>par</th>\n",
       "      <th>poverty_measure</th>\n",
       "    </tr>\n",
       "  </thead>\n",
       "  <tbody>\n",
       "    <tr>\n",
       "      <th>0</th>\n",
       "      <td>fgt0</td>\n",
       "      <td>50</td>\n",
       "      <td>NaN</td>\n",
       "      <td>0.292000</td>\n",
       "    </tr>\n",
       "    <tr>\n",
       "      <th>1</th>\n",
       "      <td>fgt1</td>\n",
       "      <td>50</td>\n",
       "      <td>NaN</td>\n",
       "      <td>0.117495</td>\n",
       "    </tr>\n",
       "    <tr>\n",
       "      <th>2</th>\n",
       "      <td>fgt2</td>\n",
       "      <td>50</td>\n",
       "      <td>NaN</td>\n",
       "      <td>0.066480</td>\n",
       "    </tr>\n",
       "    <tr>\n",
       "      <th>3</th>\n",
       "      <td>fgt</td>\n",
       "      <td>50</td>\n",
       "      <td>1.5</td>\n",
       "      <td>0.086225</td>\n",
       "    </tr>\n",
       "    <tr>\n",
       "      <th>4</th>\n",
       "      <td>sen</td>\n",
       "      <td>50</td>\n",
       "      <td>NaN</td>\n",
       "      <td>0.159306</td>\n",
       "    </tr>\n",
       "    <tr>\n",
       "      <th>5</th>\n",
       "      <td>sst</td>\n",
       "      <td>50</td>\n",
       "      <td>NaN</td>\n",
       "      <td>0.042529</td>\n",
       "    </tr>\n",
       "    <tr>\n",
       "      <th>6</th>\n",
       "      <td>watts</td>\n",
       "      <td>50</td>\n",
       "      <td>NaN</td>\n",
       "      <td>0.190760</td>\n",
       "    </tr>\n",
       "    <tr>\n",
       "      <th>7</th>\n",
       "      <td>cuh</td>\n",
       "      <td>50</td>\n",
       "      <td>0.0</td>\n",
       "      <td>0.179357</td>\n",
       "    </tr>\n",
       "    <tr>\n",
       "      <th>8</th>\n",
       "      <td>cuh</td>\n",
       "      <td>50</td>\n",
       "      <td>0.5</td>\n",
       "      <td>0.140449</td>\n",
       "    </tr>\n",
       "    <tr>\n",
       "      <th>9</th>\n",
       "      <td>takayama</td>\n",
       "      <td>50</td>\n",
       "      <td>NaN</td>\n",
       "      <td>0.106491</td>\n",
       "    </tr>\n",
       "    <tr>\n",
       "      <th>10</th>\n",
       "      <td>kakwani</td>\n",
       "      <td>50</td>\n",
       "      <td>NaN</td>\n",
       "      <td>156.392266</td>\n",
       "    </tr>\n",
       "    <tr>\n",
       "      <th>11</th>\n",
       "      <td>thon</td>\n",
       "      <td>50</td>\n",
       "      <td>NaN</td>\n",
       "      <td>0.213378</td>\n",
       "    </tr>\n",
       "    <tr>\n",
       "      <th>12</th>\n",
       "      <td>bd</td>\n",
       "      <td>50</td>\n",
       "      <td>2.0</td>\n",
       "      <td>-1006.809776</td>\n",
       "    </tr>\n",
       "    <tr>\n",
       "      <th>13</th>\n",
       "      <td>hagenaars</td>\n",
       "      <td>50</td>\n",
       "      <td>NaN</td>\n",
       "      <td>0.048762</td>\n",
       "    </tr>\n",
       "    <tr>\n",
       "      <th>14</th>\n",
       "      <td>chakravarty</td>\n",
       "      <td>50</td>\n",
       "      <td>0.5</td>\n",
       "      <td>0.072880</td>\n",
       "    </tr>\n",
       "  </tbody>\n",
       "</table>\n",
       "</div>"
      ],
      "text/plain": [
       "         method  pline  par  poverty_measure\n",
       "0          fgt0     50  NaN         0.292000\n",
       "1          fgt1     50  NaN         0.117495\n",
       "2          fgt2     50  NaN         0.066480\n",
       "3           fgt     50  1.5         0.086225\n",
       "4           sen     50  NaN         0.159306\n",
       "5           sst     50  NaN         0.042529\n",
       "6         watts     50  NaN         0.190760\n",
       "7           cuh     50  0.0         0.179357\n",
       "8           cuh     50  0.5         0.140449\n",
       "9      takayama     50  NaN         0.106491\n",
       "10      kakwani     50  NaN       156.392266\n",
       "11         thon     50  NaN         0.213378\n",
       "12           bd     50  2.0     -1006.809776\n",
       "13    hagenaars     50  NaN         0.048762\n",
       "14  chakravarty     50  0.5         0.072880"
      ]
     },
     "execution_count": 11,
     "metadata": {},
     "output_type": "execute_result"
    }
   ],
   "source": [
    "# Evaluar un listado de métodos\n",
    "mlist_p = ['fgt0','fgt1','fgt2',['fgt',1.5],'sen','sst','watts',['cuh',0],['cuh',0.5],'takayama','kakwani','thon',['bd',2],'hagenaars',['chakravarty',0.5 ]]\n",
    "mlist_p2 = [joinpar(x,pline) for x in mlist_p ]\n",
    "table = []\n",
    "for elem in mlist_p2:   \n",
    "    table.append(dr2.poverty(elem[0],*elem[1:]))\n",
    "df_outp =  pd.DataFrame(mlist_p2,columns = ['method','pline','par'])  \n",
    "df_outp['poverty_measure'] = table\n",
    "df_outp"
   ]
  },
  {
   "cell_type": "code",
   "execution_count": 12,
   "metadata": {},
   "outputs": [
    {
     "data": {
      "image/png": "[encoded data removed]",
      "text/plain": [
       "<Figure size 432x288 with 1 Axes>"
      ]
     },
     "metadata": {
      "needs_background": "light"
     },
     "output_type": "display_data"
    }
   ],
   "source": [
    "# Curva TIP\n",
    "df_tip = dr2.tip(pline)"
   ]
  },
  {
   "cell_type": "markdown",
   "metadata": {},
   "source": [
    "# Inequality\n",
    "\n",
    "Están implementadas 12 medidas de desigualdad y la Curva de Lorenz (permite comparar gráficamente la desigualdad entre distribuciones)"
   ]
  },
  {
   "cell_type": "code",
   "execution_count": 13,
   "metadata": {},
   "outputs": [
    {
     "data": {
      "text/plain": [
       "0.37298549998078034"
      ]
     },
     "execution_count": 13,
     "metadata": {},
     "output_type": "execute_result"
    }
   ],
   "source": [
    "# Evaluar un método - datos sin agrupar\n",
    "q = dr2.ineq('gini')\n",
    "q"
   ]
  },
  {
   "cell_type": "code",
   "execution_count": 14,
   "metadata": {},
   "outputs": [
    {
     "data": {
      "text/plain": [
       "3.43513362453347"
      ]
     },
     "execution_count": 14,
     "metadata": {},
     "output_type": "execute_result"
    }
   ],
   "source": [
    "# Evaluar un método - datos agrupados\n",
    "q = dr3.ineq('rr')\n",
    "q"
   ]
  },
  {
   "cell_type": "code",
   "execution_count": 15,
   "metadata": {},
   "outputs": [
    {
     "data": {
      "text/html": [
       "<div>\n",
       "<style scoped>\n",
       "    .dataframe tbody tr th:only-of-type {\n",
       "        vertical-align: middle;\n",
       "    }\n",
       "\n",
       "    .dataframe tbody tr th {\n",
       "        vertical-align: top;\n",
       "    }\n",
       "\n",
       "    .dataframe thead th {\n",
       "        text-align: right;\n",
       "    }\n",
       "</style>\n",
       "<table border=\"1\" class=\"dataframe\">\n",
       "  <thead>\n",
       "    <tr style=\"text-align: right;\">\n",
       "      <th></th>\n",
       "      <th>method</th>\n",
       "      <th>par</th>\n",
       "      <th>ineq_measure</th>\n",
       "    </tr>\n",
       "  </thead>\n",
       "  <tbody>\n",
       "    <tr>\n",
       "      <th>0</th>\n",
       "      <td>rr</td>\n",
       "      <td>NaN</td>\n",
       "      <td>4.266101</td>\n",
       "    </tr>\n",
       "    <tr>\n",
       "      <th>1</th>\n",
       "      <td>dmr</td>\n",
       "      <td>NaN</td>\n",
       "      <td>0.270287</td>\n",
       "    </tr>\n",
       "    <tr>\n",
       "      <th>2</th>\n",
       "      <td>cv</td>\n",
       "      <td>NaN</td>\n",
       "      <td>0.699158</td>\n",
       "    </tr>\n",
       "    <tr>\n",
       "      <th>3</th>\n",
       "      <td>dslog</td>\n",
       "      <td>NaN</td>\n",
       "      <td>0.864652</td>\n",
       "    </tr>\n",
       "    <tr>\n",
       "      <th>4</th>\n",
       "      <td>gini</td>\n",
       "      <td>NaN</td>\n",
       "      <td>0.372985</td>\n",
       "    </tr>\n",
       "    <tr>\n",
       "      <th>5</th>\n",
       "      <td>merhan</td>\n",
       "      <td>NaN</td>\n",
       "      <td>0.518891</td>\n",
       "    </tr>\n",
       "    <tr>\n",
       "      <th>6</th>\n",
       "      <td>piesch</td>\n",
       "      <td>NaN</td>\n",
       "      <td>0.300036</td>\n",
       "    </tr>\n",
       "    <tr>\n",
       "      <th>7</th>\n",
       "      <td>bonferroni</td>\n",
       "      <td>NaN</td>\n",
       "      <td>0.514461</td>\n",
       "    </tr>\n",
       "    <tr>\n",
       "      <th>8</th>\n",
       "      <td>kolm</td>\n",
       "      <td>0.50</td>\n",
       "      <td>81.279534</td>\n",
       "    </tr>\n",
       "    <tr>\n",
       "      <th>9</th>\n",
       "      <td>ratio</td>\n",
       "      <td>0.05</td>\n",
       "      <td>0.036786</td>\n",
       "    </tr>\n",
       "    <tr>\n",
       "      <th>10</th>\n",
       "      <td>ratio</td>\n",
       "      <td>0.20</td>\n",
       "      <td>0.117250</td>\n",
       "    </tr>\n",
       "    <tr>\n",
       "      <th>11</th>\n",
       "      <td>entropy</td>\n",
       "      <td>0.00</td>\n",
       "      <td>0.275585</td>\n",
       "    </tr>\n",
       "    <tr>\n",
       "      <th>12</th>\n",
       "      <td>entropy</td>\n",
       "      <td>1.00</td>\n",
       "      <td>0.229107</td>\n",
       "    </tr>\n",
       "    <tr>\n",
       "      <th>13</th>\n",
       "      <td>entropy</td>\n",
       "      <td>2.00</td>\n",
       "      <td>0.244411</td>\n",
       "    </tr>\n",
       "    <tr>\n",
       "      <th>14</th>\n",
       "      <td>atkinson</td>\n",
       "      <td>0.50</td>\n",
       "      <td>-82625.613161</td>\n",
       "    </tr>\n",
       "    <tr>\n",
       "      <th>15</th>\n",
       "      <td>atkinson</td>\n",
       "      <td>1.00</td>\n",
       "      <td>-71053.745142</td>\n",
       "    </tr>\n",
       "    <tr>\n",
       "      <th>16</th>\n",
       "      <td>atkinson</td>\n",
       "      <td>2.00</td>\n",
       "      <td>-45382.142585</td>\n",
       "    </tr>\n",
       "  </tbody>\n",
       "</table>\n",
       "</div>"
      ],
      "text/plain": [
       "        method   par  ineq_measure\n",
       "0           rr   NaN      4.266101\n",
       "1          dmr   NaN      0.270287\n",
       "2           cv   NaN      0.699158\n",
       "3        dslog   NaN      0.864652\n",
       "4         gini   NaN      0.372985\n",
       "5       merhan   NaN      0.518891\n",
       "6       piesch   NaN      0.300036\n",
       "7   bonferroni   NaN      0.514461\n",
       "8         kolm  0.50     81.279534\n",
       "9        ratio  0.05      0.036786\n",
       "10       ratio  0.20      0.117250\n",
       "11     entropy  0.00      0.275585\n",
       "12     entropy  1.00      0.229107\n",
       "13     entropy  2.00      0.244411\n",
       "14    atkinson  0.50 -82625.613161\n",
       "15    atkinson  1.00 -71053.745142\n",
       "16    atkinson  2.00 -45382.142585"
      ]
     },
     "execution_count": 15,
     "metadata": {},
     "output_type": "execute_result"
    }
   ],
   "source": [
    "# Evaluar una lista de métodos\n",
    "list_i = ['rr','dmr','cv','dslog','gini','merhan','piesch','bonferroni',['kolm',0.5],['ratio',0.05],['ratio',0.2], \\\n",
    "          ['entropy',0],['entropy',1],['entropy',2],['atkinson',0.5],['atkinson',1],['atkinson',2]]\n",
    "list_i = [[elem] if not isinstance(elem,list) else elem for elem in list_i]\n",
    "table = []\n",
    "for elem in list_i:   \n",
    "    table.append(dr2.ineq(*elem))\n",
    "dz_i =  pd.DataFrame(list_i,columns = ['method','par'])  \n",
    "dz_i['ineq_measure'] = table\n",
    "dz_i"
   ]
  },
  {
   "cell_type": "code",
   "execution_count": 16,
   "metadata": {},
   "outputs": [
    {
     "data": {
      "image/png": "[encoded data removed]",
      "text/plain": [
       "<Figure size 432x288 with 1 Axes>"
      ]
     },
     "metadata": {
      "needs_background": "light"
     },
     "output_type": "display_data"
    }
   ],
   "source": [
    "# Curva de Lorenz\n",
    "df_lor = dr2.lorenz()"
   ]
  },
  {
   "cell_type": "markdown",
   "metadata": {},
   "source": [
    "# Welfare\n",
    "\n",
    "Están implementadas 5 funciones de bienestar social."
   ]
  },
  {
   "cell_type": "code",
   "execution_count": 17,
   "metadata": {},
   "outputs": [
    {
     "data": {
      "text/plain": [
       "58.68923658754445"
      ]
     },
     "execution_count": 17,
     "metadata": {},
     "output_type": "execute_result"
    }
   ],
   "source": [
    "# Evaluar un método - datos sin agrupar\n",
    "w = dr2.welfare('sen')\n",
    "w"
   ]
  },
  {
   "cell_type": "code",
   "execution_count": 18,
   "metadata": {},
   "outputs": [
    {
     "data": {
      "text/plain": [
       "91.25182097965433"
      ]
     },
     "execution_count": 18,
     "metadata": {},
     "output_type": "execute_result"
    }
   ],
   "source": [
    "# Evaluar un método - datos agrupados\n",
    "w = dr3.welfare('utilitarian')\n",
    "w"
   ]
  },
  {
   "cell_type": "code",
   "execution_count": 19,
   "metadata": {},
   "outputs": [
    {
     "data": {
      "text/html": [
       "<div>\n",
       "<style scoped>\n",
       "    .dataframe tbody tr th:only-of-type {\n",
       "        vertical-align: middle;\n",
       "    }\n",
       "\n",
       "    .dataframe tbody tr th {\n",
       "        vertical-align: top;\n",
       "    }\n",
       "\n",
       "    .dataframe thead th {\n",
       "        text-align: right;\n",
       "    }\n",
       "</style>\n",
       "<table border=\"1\" class=\"dataframe\">\n",
       "  <thead>\n",
       "    <tr style=\"text-align: right;\">\n",
       "      <th></th>\n",
       "      <th>method</th>\n",
       "      <th>par</th>\n",
       "      <th>welfare_measure</th>\n",
       "    </tr>\n",
       "  </thead>\n",
       "  <tbody>\n",
       "    <tr>\n",
       "      <th>0</th>\n",
       "      <td>utilitarian</td>\n",
       "      <td>NaN</td>\n",
       "      <td>93.600486</td>\n",
       "    </tr>\n",
       "    <tr>\n",
       "      <th>1</th>\n",
       "      <td>rawlsian</td>\n",
       "      <td>NaN</td>\n",
       "      <td>1.039374</td>\n",
       "    </tr>\n",
       "    <tr>\n",
       "      <th>2</th>\n",
       "      <td>sen</td>\n",
       "      <td>NaN</td>\n",
       "      <td>58.689237</td>\n",
       "    </tr>\n",
       "    <tr>\n",
       "      <th>3</th>\n",
       "      <td>theill</td>\n",
       "      <td>NaN</td>\n",
       "      <td>71.054745</td>\n",
       "    </tr>\n",
       "    <tr>\n",
       "      <th>4</th>\n",
       "      <td>theilt</td>\n",
       "      <td>NaN</td>\n",
       "      <td>74.435150</td>\n",
       "    </tr>\n",
       "    <tr>\n",
       "      <th>5</th>\n",
       "      <td>isoelastic</td>\n",
       "      <td>0.0</td>\n",
       "      <td>93.600486</td>\n",
       "    </tr>\n",
       "    <tr>\n",
       "      <th>6</th>\n",
       "      <td>isoelastic</td>\n",
       "      <td>1.0</td>\n",
       "      <td>4.263451</td>\n",
       "    </tr>\n",
       "    <tr>\n",
       "      <th>7</th>\n",
       "      <td>isoelastic</td>\n",
       "      <td>2.0</td>\n",
       "      <td>-0.022035</td>\n",
       "    </tr>\n",
       "    <tr>\n",
       "      <th>8</th>\n",
       "      <td>isoelastic</td>\n",
       "      <td>inf</td>\n",
       "      <td>1.039374</td>\n",
       "    </tr>\n",
       "  </tbody>\n",
       "</table>\n",
       "</div>"
      ],
      "text/plain": [
       "        method  par  welfare_measure\n",
       "0  utilitarian  NaN        93.600486\n",
       "1     rawlsian  NaN         1.039374\n",
       "2          sen  NaN        58.689237\n",
       "3       theill  NaN        71.054745\n",
       "4       theilt  NaN        74.435150\n",
       "5   isoelastic  0.0        93.600486\n",
       "6   isoelastic  1.0         4.263451\n",
       "7   isoelastic  2.0        -0.022035\n",
       "8   isoelastic  inf         1.039374"
      ]
     },
     "execution_count": 19,
     "metadata": {},
     "output_type": "execute_result"
    }
   ],
   "source": [
    "# Lista de indicadores\n",
    "list_w = ['utilitarian','rawlsian','sen','theill','theilt',['isoelastic',0],['isoelastic',1],['isoelastic',2],['isoelastic',np.Inf]]\n",
    "list_w = [[elem] if not isinstance(elem,list) else elem for elem in list_w]\n",
    "table = []\n",
    "for elem in list_w:   \n",
    "    table.append(dr2.welfare(*elem))\n",
    "dz_w =  pd.DataFrame(list_w,columns = ['method','par'])  \n",
    "dz_w['welfare_measure'] = table\n",
    "dz_w     "
   ]
  },
  {
   "cell_type": "markdown",
   "metadata": {},
   "source": [
    "# Polarization \n",
    "\n",
    "Están implementados 2 medidas de polarización."
   ]
  },
  {
   "cell_type": "code",
   "execution_count": 20,
   "metadata": {},
   "outputs": [
    {
     "data": {
      "text/plain": [
       "0.07019690158312597"
      ]
     },
     "execution_count": 20,
     "metadata": {},
     "output_type": "execute_result"
    }
   ],
   "source": [
    "# Evaluar un método - datos sin agrupar\n",
    "p = dr2.polar('er')\n",
    "p"
   ]
  },
  {
   "cell_type": "code",
   "execution_count": 21,
   "metadata": {},
   "outputs": [
    {
     "data": {
      "text/html": [
       "<div>\n",
       "<style scoped>\n",
       "    .dataframe tbody tr th:only-of-type {\n",
       "        vertical-align: middle;\n",
       "    }\n",
       "\n",
       "    .dataframe tbody tr th {\n",
       "        vertical-align: top;\n",
       "    }\n",
       "\n",
       "    .dataframe thead th {\n",
       "        text-align: right;\n",
       "    }\n",
       "</style>\n",
       "<table border=\"1\" class=\"dataframe\">\n",
       "  <thead>\n",
       "    <tr style=\"text-align: right;\">\n",
       "      <th></th>\n",
       "      <th>method</th>\n",
       "      <th>polarization_measure</th>\n",
       "    </tr>\n",
       "  </thead>\n",
       "  <tbody>\n",
       "    <tr>\n",
       "      <th>0</th>\n",
       "      <td>er</td>\n",
       "      <td>0.070197</td>\n",
       "    </tr>\n",
       "    <tr>\n",
       "      <th>1</th>\n",
       "      <td>wlf</td>\n",
       "      <td>-0.127361</td>\n",
       "    </tr>\n",
       "  </tbody>\n",
       "</table>\n",
       "</div>"
      ],
      "text/plain": [
       "  method  polarization_measure\n",
       "0     er              0.070197\n",
       "1    wlf             -0.127361"
      ]
     },
     "execution_count": 21,
     "metadata": {},
     "output_type": "execute_result"
    }
   ],
   "source": [
    "# lista de indicadores\n",
    "list_pz = ['er','wlf']\n",
    "table = []\n",
    "for elem in list_pz:   \n",
    "    table.append(dr2.polar(elem))\n",
    "dz_pz =  pd.DataFrame(list_pz,columns = ['method'])  \n",
    "dz_pz['polarization_measure'] = table\n",
    "dz_pz"
   ]
  },
  {
   "cell_type": "markdown",
   "metadata": {},
   "source": [
    "# Concentration\n",
    "\n",
    "Están implementadas 4 medidas de concentración (de uso comun para analizar la concentración industrial)."
   ]
  },
  {
   "cell_type": "code",
   "execution_count": 22,
   "metadata": {},
   "outputs": [
    {
     "data": {
      "text/plain": [
       "0.001488822054768636"
      ]
     },
     "execution_count": 22,
     "metadata": {},
     "output_type": "execute_result"
    }
   ],
   "source": [
    "# Evaluar un método - datos sin agrupar\n",
    "c = dr2.conc('hhi')\n",
    "c"
   ]
  },
  {
   "cell_type": "code",
   "execution_count": 23,
   "metadata": {},
   "outputs": [
    {
     "data": {
      "text/html": [
       "<div>\n",
       "<style scoped>\n",
       "    .dataframe tbody tr th:only-of-type {\n",
       "        vertical-align: middle;\n",
       "    }\n",
       "\n",
       "    .dataframe tbody tr th {\n",
       "        vertical-align: top;\n",
       "    }\n",
       "\n",
       "    .dataframe thead th {\n",
       "        text-align: right;\n",
       "    }\n",
       "</style>\n",
       "<table border=\"1\" class=\"dataframe\">\n",
       "  <thead>\n",
       "    <tr style=\"text-align: right;\">\n",
       "      <th></th>\n",
       "      <th>method</th>\n",
       "      <th>par</th>\n",
       "      <th>concentration_measure</th>\n",
       "    </tr>\n",
       "  </thead>\n",
       "  <tbody>\n",
       "    <tr>\n",
       "      <th>0</th>\n",
       "      <td>hhi</td>\n",
       "      <td>NaN</td>\n",
       "      <td>0.001489</td>\n",
       "    </tr>\n",
       "    <tr>\n",
       "      <th>1</th>\n",
       "      <td>hhin</td>\n",
       "      <td>NaN</td>\n",
       "      <td>0.000489</td>\n",
       "    </tr>\n",
       "    <tr>\n",
       "      <th>2</th>\n",
       "      <td>rosenbluth</td>\n",
       "      <td>NaN</td>\n",
       "      <td>0.001595</td>\n",
       "    </tr>\n",
       "    <tr>\n",
       "      <th>3</th>\n",
       "      <td>cr</td>\n",
       "      <td>1.0</td>\n",
       "      <td>0.004277</td>\n",
       "    </tr>\n",
       "    <tr>\n",
       "      <th>4</th>\n",
       "      <td>cr</td>\n",
       "      <td>5.0</td>\n",
       "      <td>0.019587</td>\n",
       "    </tr>\n",
       "  </tbody>\n",
       "</table>\n",
       "</div>"
      ],
      "text/plain": [
       "       method  par  concentration_measure\n",
       "0         hhi  NaN               0.001489\n",
       "1        hhin  NaN               0.000489\n",
       "2  rosenbluth  NaN               0.001595\n",
       "3          cr  1.0               0.004277\n",
       "4          cr  5.0               0.019587"
      ]
     },
     "execution_count": 23,
     "metadata": {},
     "output_type": "execute_result"
    }
   ],
   "source": [
    "# lista de indicadores\n",
    "list_c = ['hhi','hhin','rosenbluth',['cr',1],['cr',5]]\n",
    "list_c = [[elem] if not isinstance(elem,list) else elem for elem in list_c]\n",
    "table = []\n",
    "for elem in list_c:   \n",
    "    table.append(dr2.conc(*elem))\n",
    "dz_c =  pd.DataFrame(list_c,columns = ['method','par'])  \n",
    "dz_c['concentration_measure'] = table\n",
    "dz_c     "
   ]
  },
  {
   "cell_type": "markdown",
   "metadata": {},
   "source": [
    "# Pendiente\n",
    "\n",
    "\n",
    "**En algoritmos falta (implementación):**\n",
    "\n",
    "* valores no válidos (x y w, parámetros)\n",
    "* Tamaño nulo del dataframe\n",
    "* Division por cero (/log(1))\n",
    "* overflow\n",
    "* Tratamiento de missings\n",
    "* implementación eficiente (algunos son lentos: polarizacion)\n",
    "* mejorar algunos nombres\n",
    "* Hay metodos que tienen varios nombres o que pueden estar en diferentes categorías. Ver si agregar redundancia.\n",
    "* Curva de lorenz generalizada\n",
    "* random (cambiar generador)\n",
    "\n",
    "\n",
    "**En algoritmos (análisis):**\n",
    "\n",
    "* Intervalos de confianza\n",
    "* comparación de distribuciones (impacto de políticas, etc)\n",
    "* descomposición (basarse en groupby)\n",
    "\n",
    "\n",
    "**En test:**\n",
    "\n",
    "* Comparar resultados con librerias de R"
   ]
  },
  {
   "cell_type": "markdown",
   "metadata": {},
   "source": [
    "# Otras Implementaciones\n",
    "\n",
    "Relevantes para el dearrollo de los test.\n",
    "\n",
    "**Python**\n",
    "\n",
    "- http://www.poorcity.richcity.org/oei/  (algoritmos)\n",
    "- https://github.com/mmngreco/IneqPy\n",
    "- https://pythonhosted.org/IneqPy/ineqpy.html\n",
    "- https://github.com/open-risk/concentrationMetrics\n",
    "\n",
    "**R**\n",
    "\n",
    "- https://cran.r-project.org/web/packages/ineq/ineq.pdf\n",
    "- https://cran.r-project.org/web/packages/affluenceIndex/affluenceIndex.pdf\n",
    "- https://cran.r-project.org/web/packages/dineq/dineq.pdf\n",
    "- https://github.com/PABalland/EconGeo\n",
    "- https://cran.r-project.org/web/packages/rtip/rtip.pdf\n",
    "\n",
    "**Stata**\n",
    "\n",
    "- https://www.stata.com/manuals/rinequality.pdf\n",
    "- http://dasp.ecn.ulaval.ca/dmodules/madds20.htm\n"
   ]
  },
  {
   "cell_type": "markdown",
   "metadata": {},
   "source": [
    "# Referencias\n",
    "\n",
    "* F A Cowell: Measuring Inequality, 1995 Prentice Hall\n",
    "* Handbook on Poverty and Inequality. https://openknowledge.worldbank.org/bitstream/handle/10986/11985/9780821376133.pdf\n",
    "* POBREZA Y DESIGUALDAD EN AMÉRICA LATINA. https://www.cedlas.econo.unlp.edu.ar/wp/wp-content/uploads/Pobreza_desigualdad_-America_Latina.pdf\n",
    "* https://www.cepal.org/es/publicaciones/4740-enfoques-la-medicion-la-pobreza-breve-revision-la-literatura\n",
    "* https://www.cepal.org/es/publicaciones/4788-consideraciones-indice-gini-medir-la-concentracion-ingreso\n",
    "\n",
    "\n"
   ]
  }
 ],
 "metadata": {
  "kernelspec": {
   "display_name": "Python 3",
   "language": "python",
   "name": "python3"
  },
  "language_info": {
   "codemirror_mode": {
    "name": "ipython",
    "version": 3
   },
   "file_extension": ".py",
   "mimetype": "text/x-python",
   "name": "python",
   "nbconvert_exporter": "python",
   "pygments_lexer": "ipython3",
   "version": "3.7.6"
  }
 },
 "nbformat": 4,
 "nbformat_minor": 4
}
